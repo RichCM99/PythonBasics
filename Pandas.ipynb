{
 "cells": [
  {
   "cell_type": "markdown",
   "id": "70a2536c-c187-479d-817d-3a4cb7909e30",
   "metadata": {},
   "source": [
    "# Pandas"
   ]
  },
  {
   "cell_type": "code",
   "execution_count": 140,
   "id": "831cbe3c-ca9b-41e9-85da-af0be8ca69fd",
   "metadata": {},
   "outputs": [],
   "source": [
    "import pandas as pd"
   ]
  },
  {
   "cell_type": "markdown",
   "id": "40fc9e53-cf6a-4cd0-ab70-5d07be961dbb",
   "metadata": {},
   "source": [
    "Algunos métodos o atributos que se encuentran en pandas son"
   ]
  },
  {
   "cell_type": "markdown",
   "id": "13ab89ef-7b90-438a-81da-8013359e2045",
   "metadata": {},
   "source": [
    ".head() que nos permite ver las primeras filas del dataframe, podemos indicar un parámetro en los \n",
    "paréntesis por si queremos ver más o menos filas. \n",
    "\n",
    ".info() muestra información de cada columna como su tipo ó cuántos valores faltantes tiene.\n",
    "\n",
    ".shape NO LLEVA PARENTESIS, nos da el numero de filas y columnas del dataframe en una tupla\n",
    "\n",
    ".describe() nos da un breve resumen de cálculos estadísticos básicos.\n",
    "\n",
    ".values nos devuelve una lista de listas (un arreglo en 2D-numpy), donde cada lista es una linea del dataframe.\n",
    "\n",
    ".columns nos da una serie con los nombres de cada columna del dataframe.\n",
    "\n",
    ".index nos da una serie con los nombres de los indices de cada fila"
   ]
  },
  {
   "cell_type": "markdown",
   "id": "87da47ab-0f84-4692-b20f-dda802f72843",
   "metadata": {},
   "source": [
    "## Ordenar y extraer información de un dataframe"
   ]
  },
  {
   "cell_type": "code",
   "execution_count": 141,
   "id": "88abfaab-a3f9-4f0b-be7c-99d012f9bb69",
   "metadata": {},
   "outputs": [],
   "source": [
    "names = ['United States', 'Australia', 'Japan', 'India', 'Russia', 'Morocco', 'Egypt']\n",
    "dr =  [True, False, False, False, True, True, True]\n",
    "cpc = [809, 731, 588, 18, 200, 70, 45]\n",
    "cars_dict = { 'country':names, 'drives_right':dr, 'cars_per_cap':cpc }\n",
    "cars = pd.DataFrame(cars_dict)\n",
    "cars['cpc100'] = cars['cars_per_cap'] / 100\n",
    "\n",
    "# dataframe de prueba"
   ]
  },
  {
   "cell_type": "markdown",
   "id": "d3a7cafc-ff73-4148-a2b2-5945898a071c",
   "metadata": {},
   "source": [
    "Para ordenar los datos por una o más columnas, usamos .sort_values()"
   ]
  },
  {
   "cell_type": "code",
   "execution_count": 142,
   "id": "8e3ed3ec-6dc5-46ae-a95f-3b6051a23990",
   "metadata": {},
   "outputs": [
    {
     "data": {
      "text/html": [
       "<div>\n",
       "<style scoped>\n",
       "    .dataframe tbody tr th:only-of-type {\n",
       "        vertical-align: middle;\n",
       "    }\n",
       "\n",
       "    .dataframe tbody tr th {\n",
       "        vertical-align: top;\n",
       "    }\n",
       "\n",
       "    .dataframe thead th {\n",
       "        text-align: right;\n",
       "    }\n",
       "</style>\n",
       "<table border=\"1\" class=\"dataframe\">\n",
       "  <thead>\n",
       "    <tr style=\"text-align: right;\">\n",
       "      <th></th>\n",
       "      <th>country</th>\n",
       "      <th>drives_right</th>\n",
       "      <th>cars_per_cap</th>\n",
       "      <th>cpc100</th>\n",
       "    </tr>\n",
       "  </thead>\n",
       "  <tbody>\n",
       "    <tr>\n",
       "      <th>0</th>\n",
       "      <td>United States</td>\n",
       "      <td>True</td>\n",
       "      <td>809</td>\n",
       "      <td>8.09</td>\n",
       "    </tr>\n",
       "    <tr>\n",
       "      <th>4</th>\n",
       "      <td>Russia</td>\n",
       "      <td>True</td>\n",
       "      <td>200</td>\n",
       "      <td>2.00</td>\n",
       "    </tr>\n",
       "    <tr>\n",
       "      <th>5</th>\n",
       "      <td>Morocco</td>\n",
       "      <td>True</td>\n",
       "      <td>70</td>\n",
       "      <td>0.70</td>\n",
       "    </tr>\n",
       "    <tr>\n",
       "      <th>2</th>\n",
       "      <td>Japan</td>\n",
       "      <td>False</td>\n",
       "      <td>588</td>\n",
       "      <td>5.88</td>\n",
       "    </tr>\n",
       "    <tr>\n",
       "      <th>3</th>\n",
       "      <td>India</td>\n",
       "      <td>False</td>\n",
       "      <td>18</td>\n",
       "      <td>0.18</td>\n",
       "    </tr>\n",
       "    <tr>\n",
       "      <th>6</th>\n",
       "      <td>Egypt</td>\n",
       "      <td>True</td>\n",
       "      <td>45</td>\n",
       "      <td>0.45</td>\n",
       "    </tr>\n",
       "    <tr>\n",
       "      <th>1</th>\n",
       "      <td>Australia</td>\n",
       "      <td>False</td>\n",
       "      <td>731</td>\n",
       "      <td>7.31</td>\n",
       "    </tr>\n",
       "  </tbody>\n",
       "</table>\n",
       "</div>"
      ],
      "text/plain": [
       "         country  drives_right  cars_per_cap  cpc100\n",
       "0  United States          True           809    8.09\n",
       "4         Russia          True           200    2.00\n",
       "5        Morocco          True            70    0.70\n",
       "2          Japan         False           588    5.88\n",
       "3          India         False            18    0.18\n",
       "6          Egypt          True            45    0.45\n",
       "1      Australia         False           731    7.31"
      ]
     },
     "execution_count": 142,
     "metadata": {},
     "output_type": "execute_result"
    }
   ],
   "source": [
    "cars.sort_values(['country', 'cars_per_cap'], ascending = [False, True])"
   ]
  },
  {
   "cell_type": "markdown",
   "id": "d7a4b99e-ba28-497b-9e4a-9eb6eeda84a2",
   "metadata": {},
   "source": [
    "Para indexar en un dataframe, si queremos más de una condición al mismo tiempo, podemos hacerlo de la siguiente manera"
   ]
  },
  {
   "cell_type": "code",
   "execution_count": 143,
   "id": "fb262d51-7b06-4363-b564-338934fca95d",
   "metadata": {},
   "outputs": [
    {
     "data": {
      "text/html": [
       "<div>\n",
       "<style scoped>\n",
       "    .dataframe tbody tr th:only-of-type {\n",
       "        vertical-align: middle;\n",
       "    }\n",
       "\n",
       "    .dataframe tbody tr th {\n",
       "        vertical-align: top;\n",
       "    }\n",
       "\n",
       "    .dataframe thead th {\n",
       "        text-align: right;\n",
       "    }\n",
       "</style>\n",
       "<table border=\"1\" class=\"dataframe\">\n",
       "  <thead>\n",
       "    <tr style=\"text-align: right;\">\n",
       "      <th></th>\n",
       "      <th>country</th>\n",
       "      <th>drives_right</th>\n",
       "      <th>cars_per_cap</th>\n",
       "      <th>cpc100</th>\n",
       "    </tr>\n",
       "  </thead>\n",
       "  <tbody>\n",
       "    <tr>\n",
       "      <th>0</th>\n",
       "      <td>United States</td>\n",
       "      <td>True</td>\n",
       "      <td>809</td>\n",
       "      <td>8.09</td>\n",
       "    </tr>\n",
       "    <tr>\n",
       "      <th>4</th>\n",
       "      <td>Russia</td>\n",
       "      <td>True</td>\n",
       "      <td>200</td>\n",
       "      <td>2.00</td>\n",
       "    </tr>\n",
       "  </tbody>\n",
       "</table>\n",
       "</div>"
      ],
      "text/plain": [
       "         country  drives_right  cars_per_cap  cpc100\n",
       "0  United States          True           809    8.09\n",
       "4         Russia          True           200    2.00"
      ]
     },
     "execution_count": 143,
     "metadata": {},
     "output_type": "execute_result"
    }
   ],
   "source": [
    "cars[(cars['drives_right'] == True) & (cars['cars_per_cap'] > 70)]\n",
    "\n",
    "# el simbolo & se puede pensar con un \"y\", para el \"o\" usamos |"
   ]
  },
  {
   "cell_type": "markdown",
   "id": "495d7181-4c25-4e39-b8a1-01b0b4eac88d",
   "metadata": {},
   "source": [
    "Otra manera de hacerlo es usando lo siguiente (esto se usa cuando buscamos más de 3 ó 4 elementos en alguna columna del dataframe) "
   ]
  },
  {
   "cell_type": "code",
   "execution_count": 144,
   "id": "a9b6c4a4-524d-47e5-a118-ddae4f5d7965",
   "metadata": {},
   "outputs": [
    {
     "data": {
      "text/html": [
       "<div>\n",
       "<style scoped>\n",
       "    .dataframe tbody tr th:only-of-type {\n",
       "        vertical-align: middle;\n",
       "    }\n",
       "\n",
       "    .dataframe tbody tr th {\n",
       "        vertical-align: top;\n",
       "    }\n",
       "\n",
       "    .dataframe thead th {\n",
       "        text-align: right;\n",
       "    }\n",
       "</style>\n",
       "<table border=\"1\" class=\"dataframe\">\n",
       "  <thead>\n",
       "    <tr style=\"text-align: right;\">\n",
       "      <th></th>\n",
       "      <th>country</th>\n",
       "      <th>drives_right</th>\n",
       "      <th>cars_per_cap</th>\n",
       "      <th>cpc100</th>\n",
       "    </tr>\n",
       "  </thead>\n",
       "  <tbody>\n",
       "    <tr>\n",
       "      <th>1</th>\n",
       "      <td>Australia</td>\n",
       "      <td>False</td>\n",
       "      <td>731</td>\n",
       "      <td>7.31</td>\n",
       "    </tr>\n",
       "    <tr>\n",
       "      <th>2</th>\n",
       "      <td>Japan</td>\n",
       "      <td>False</td>\n",
       "      <td>588</td>\n",
       "      <td>5.88</td>\n",
       "    </tr>\n",
       "    <tr>\n",
       "      <th>5</th>\n",
       "      <td>Morocco</td>\n",
       "      <td>True</td>\n",
       "      <td>70</td>\n",
       "      <td>0.70</td>\n",
       "    </tr>\n",
       "  </tbody>\n",
       "</table>\n",
       "</div>"
      ],
      "text/plain": [
       "     country  drives_right  cars_per_cap  cpc100\n",
       "1  Australia         False           731    7.31\n",
       "2      Japan         False           588    5.88\n",
       "5    Morocco          True            70    0.70"
      ]
     },
     "execution_count": 144,
     "metadata": {},
     "output_type": "execute_result"
    }
   ],
   "source": [
    "cars[cars['country'].isin(['Morocco', 'Japan', 'Australia'])]"
   ]
  },
  {
   "cell_type": "markdown",
   "id": "9d9fc6ad-c72c-44fe-baf4-70caa6d64b9b",
   "metadata": {},
   "source": [
    "## Algunas funciones estadísticas "
   ]
  },
  {
   "cell_type": "markdown",
   "id": "844f3c7f-3cd5-417c-8bdc-f2233d467b3a",
   "metadata": {},
   "source": [
    "Podemos aplicar estas funciones a cualquier columna que queramos del dataframe (aplicar el maximo, minimo, percentiles, etc) de la siguiente manera"
   ]
  },
  {
   "cell_type": "code",
   "execution_count": 145,
   "id": "5726a43a-4466-4908-88e3-b3e12d31bed9",
   "metadata": {},
   "outputs": [
    {
     "data": {
      "text/plain": [
       "351.57142857142856"
      ]
     },
     "execution_count": 145,
     "metadata": {},
     "output_type": "execute_result"
    }
   ],
   "source": [
    "cars['cars_per_cap'].mean()"
   ]
  },
  {
   "cell_type": "markdown",
   "id": "93ff700a-aedc-4fa2-abe9-c34c287c06d8",
   "metadata": {},
   "source": [
    "Las funciones min() y max() también pueden ser aplicadas a columnas cuyos datos sean fechas"
   ]
  },
  {
   "cell_type": "code",
   "execution_count": 146,
   "id": "e35c9ef1-9b2c-4923-aedc-facfbe050b3f",
   "metadata": {},
   "outputs": [
    {
     "data": {
      "text/plain": [
       "200.0"
      ]
     },
     "execution_count": 146,
     "metadata": {},
     "output_type": "execute_result"
    }
   ],
   "source": [
    "cars['cars_per_cap'].quantile(0.5)\n",
    "\n",
    "# nos da el percentil 50% de la columna cars per cap"
   ]
  },
  {
   "cell_type": "markdown",
   "id": "29d5c8fb-ed95-41b7-9ee1-34f95b987cd5",
   "metadata": {},
   "source": [
    "## Método .agg()"
   ]
  },
  {
   "cell_type": "markdown",
   "id": "a8e3670e-1f97-432c-8f35-df9808dae82e",
   "metadata": {},
   "source": [
    "Este método nos permite aplicar una o más funciones a un dataframe"
   ]
  },
  {
   "cell_type": "code",
   "execution_count": 147,
   "id": "05dc59ee-3c04-44d7-96bf-9916f08a7c9d",
   "metadata": {},
   "outputs": [
    {
     "data": {
      "text/plain": [
       "602.0"
      ]
     },
     "execution_count": 147,
     "metadata": {},
     "output_type": "execute_result"
    }
   ],
   "source": [
    "# definimos \n",
    "def iqr(column):\n",
    "    return column.quantile(0.75) - column.quantile(0.25)\n",
    "\n",
    "cars['cars_per_cap'].agg(iqr)\n",
    "\n",
    "# en este caso, le aplicamos la función iqr a la columna cars per cap"
   ]
  },
  {
   "cell_type": "markdown",
   "id": "af7e6b87-0367-456e-8021-66e3450d09c4",
   "metadata": {},
   "source": [
    "Para aplicar la función antes definida a más columnas de dataframe, podemos hacerlo de la siguiente manera"
   ]
  },
  {
   "cell_type": "code",
   "execution_count": 148,
   "id": "1893a35e-5dfa-4be6-a99c-02c77498465d",
   "metadata": {},
   "outputs": [
    {
     "data": {
      "text/plain": [
       "cars_per_cap    602.00\n",
       "cpc100            6.02\n",
       "dtype: float64"
      ]
     },
     "execution_count": 148,
     "metadata": {},
     "output_type": "execute_result"
    }
   ],
   "source": [
    "cars[['cars_per_cap', 'cpc100']].agg(iqr)"
   ]
  },
  {
   "cell_type": "markdown",
   "id": "f124ab69-1c0c-49e2-8cdf-8df519f89cdf",
   "metadata": {},
   "source": [
    "También podemos aplicar más de una función a varias columnas, por ejemplo"
   ]
  },
  {
   "cell_type": "code",
   "execution_count": 149,
   "id": "f11aea4d-f919-430b-a5aa-dc7ada3d7f6d",
   "metadata": {},
   "outputs": [],
   "source": [
    "import numpy as np"
   ]
  },
  {
   "cell_type": "code",
   "execution_count": 150,
   "id": "d6fa0391-964c-4f3b-99d8-3cc994405839",
   "metadata": {},
   "outputs": [
    {
     "data": {
      "text/html": [
       "<div>\n",
       "<style scoped>\n",
       "    .dataframe tbody tr th:only-of-type {\n",
       "        vertical-align: middle;\n",
       "    }\n",
       "\n",
       "    .dataframe tbody tr th {\n",
       "        vertical-align: top;\n",
       "    }\n",
       "\n",
       "    .dataframe thead th {\n",
       "        text-align: right;\n",
       "    }\n",
       "</style>\n",
       "<table border=\"1\" class=\"dataframe\">\n",
       "  <thead>\n",
       "    <tr style=\"text-align: right;\">\n",
       "      <th></th>\n",
       "      <th>cars_per_cap</th>\n",
       "      <th>cpc100</th>\n",
       "    </tr>\n",
       "  </thead>\n",
       "  <tbody>\n",
       "    <tr>\n",
       "      <th>iqr</th>\n",
       "      <td>602.0</td>\n",
       "      <td>6.02</td>\n",
       "    </tr>\n",
       "    <tr>\n",
       "      <th>median</th>\n",
       "      <td>200.0</td>\n",
       "      <td>2.00</td>\n",
       "    </tr>\n",
       "  </tbody>\n",
       "</table>\n",
       "</div>"
      ],
      "text/plain": [
       "        cars_per_cap  cpc100\n",
       "iqr            602.0    6.02\n",
       "median         200.0    2.00"
      ]
     },
     "execution_count": 150,
     "metadata": {},
     "output_type": "execute_result"
    }
   ],
   "source": [
    "cars[['cars_per_cap', 'cpc100']].agg([iqr, np.median])"
   ]
  },
  {
   "cell_type": "markdown",
   "id": "e4cbbb20-6dfb-46a8-8f60-2c893647205e",
   "metadata": {},
   "source": [
    "Otras funciones que pueden ser de ayuda son la suma acumulada, producto acumulado, etc, las podemos usar de la siguiente manera"
   ]
  },
  {
   "cell_type": "code",
   "execution_count": 151,
   "id": "adc25c38-d74e-4b26-9557-fe874c088e80",
   "metadata": {},
   "outputs": [
    {
     "data": {
      "text/plain": [
       "0     809\n",
       "1    1540\n",
       "2    2128\n",
       "3    2146\n",
       "4    2346\n",
       "5    2416\n",
       "6    2461\n",
       "Name: cars_per_cap, dtype: int64"
      ]
     },
     "execution_count": 151,
     "metadata": {},
     "output_type": "execute_result"
    }
   ],
   "source": [
    "cars['cars_per_cap'].cumsum()"
   ]
  },
  {
   "cell_type": "markdown",
   "id": "424ae57d-4993-4d3f-b494-73b52226f05c",
   "metadata": {},
   "source": [
    "## Conteos con Pandas"
   ]
  },
  {
   "cell_type": "markdown",
   "id": "c329563b-3aa3-4496-9958-656fc4d2d00b",
   "metadata": {},
   "source": [
    "Para borrar contenidos duplicados en un dataframe, usamos el método .drop_duplicates()"
   ]
  },
  {
   "cell_type": "code",
   "execution_count": 152,
   "id": "3cb10411-22cb-4483-8c3a-fd74e98b3108",
   "metadata": {},
   "outputs": [
    {
     "data": {
      "text/html": [
       "<div>\n",
       "<style scoped>\n",
       "    .dataframe tbody tr th:only-of-type {\n",
       "        vertical-align: middle;\n",
       "    }\n",
       "\n",
       "    .dataframe tbody tr th {\n",
       "        vertical-align: top;\n",
       "    }\n",
       "\n",
       "    .dataframe thead th {\n",
       "        text-align: right;\n",
       "    }\n",
       "</style>\n",
       "<table border=\"1\" class=\"dataframe\">\n",
       "  <thead>\n",
       "    <tr style=\"text-align: right;\">\n",
       "      <th></th>\n",
       "      <th>cars_per_cap</th>\n",
       "      <th>drives_right</th>\n",
       "    </tr>\n",
       "  </thead>\n",
       "  <tbody>\n",
       "    <tr>\n",
       "      <th>0</th>\n",
       "      <td>809</td>\n",
       "      <td>True</td>\n",
       "    </tr>\n",
       "    <tr>\n",
       "      <th>1</th>\n",
       "      <td>731</td>\n",
       "      <td>False</td>\n",
       "    </tr>\n",
       "    <tr>\n",
       "      <th>2</th>\n",
       "      <td>588</td>\n",
       "      <td>False</td>\n",
       "    </tr>\n",
       "    <tr>\n",
       "      <th>3</th>\n",
       "      <td>18</td>\n",
       "      <td>False</td>\n",
       "    </tr>\n",
       "    <tr>\n",
       "      <th>4</th>\n",
       "      <td>200</td>\n",
       "      <td>True</td>\n",
       "    </tr>\n",
       "    <tr>\n",
       "      <th>5</th>\n",
       "      <td>70</td>\n",
       "      <td>True</td>\n",
       "    </tr>\n",
       "    <tr>\n",
       "      <th>6</th>\n",
       "      <td>45</td>\n",
       "      <td>True</td>\n",
       "    </tr>\n",
       "  </tbody>\n",
       "</table>\n",
       "</div>"
      ],
      "text/plain": [
       "   cars_per_cap  drives_right\n",
       "0           809          True\n",
       "1           731         False\n",
       "2           588         False\n",
       "3            18         False\n",
       "4           200          True\n",
       "5            70          True\n",
       "6            45          True"
      ]
     },
     "execution_count": 152,
     "metadata": {},
     "output_type": "execute_result"
    }
   ],
   "source": [
    "cars[['cars_per_cap', 'drives_right']].drop_duplicates()\n",
    "\n",
    "# en este caso, se respeta la jerarquía de la lista, recordar ejemplo de los mismos nombres y distinto apellido"
   ]
  },
  {
   "cell_type": "markdown",
   "id": "5a3160aa-0a59-4045-97dc-d1ac9f5443a7",
   "metadata": {},
   "source": [
    "Podemos combinar entre alguna característica del dataframe y luego remover elementos repetidos, por ejemplo"
   ]
  },
  {
   "cell_type": "code",
   "execution_count": 153,
   "id": "4b12ac54-cad3-4a7a-b0b0-d64d593b8e99",
   "metadata": {},
   "outputs": [
    {
     "data": {
      "text/html": [
       "<div>\n",
       "<style scoped>\n",
       "    .dataframe tbody tr th:only-of-type {\n",
       "        vertical-align: middle;\n",
       "    }\n",
       "\n",
       "    .dataframe tbody tr th {\n",
       "        vertical-align: top;\n",
       "    }\n",
       "\n",
       "    .dataframe thead th {\n",
       "        text-align: right;\n",
       "    }\n",
       "</style>\n",
       "<table border=\"1\" class=\"dataframe\">\n",
       "  <thead>\n",
       "    <tr style=\"text-align: right;\">\n",
       "      <th></th>\n",
       "      <th>country</th>\n",
       "      <th>drives_right</th>\n",
       "      <th>cars_per_cap</th>\n",
       "      <th>cpc100</th>\n",
       "    </tr>\n",
       "  </thead>\n",
       "  <tbody>\n",
       "    <tr>\n",
       "      <th>0</th>\n",
       "      <td>United States</td>\n",
       "      <td>True</td>\n",
       "      <td>809</td>\n",
       "      <td>8.09</td>\n",
       "    </tr>\n",
       "    <tr>\n",
       "      <th>1</th>\n",
       "      <td>Australia</td>\n",
       "      <td>False</td>\n",
       "      <td>731</td>\n",
       "      <td>7.31</td>\n",
       "    </tr>\n",
       "  </tbody>\n",
       "</table>\n",
       "</div>"
      ],
      "text/plain": [
       "         country  drives_right  cars_per_cap  cpc100\n",
       "0  United States          True           809    8.09\n",
       "1      Australia         False           731    7.31"
      ]
     },
     "execution_count": 153,
     "metadata": {},
     "output_type": "execute_result"
    }
   ],
   "source": [
    "cars[cars['cars_per_cap'] > 45].drop_duplicates(subset = 'drives_right')"
   ]
  },
  {
   "cell_type": "markdown",
   "id": "3378a276-1b56-4bb3-bd51-44e5f32288e6",
   "metadata": {},
   "source": [
    "Para contar los elementos de una columna, usamos el método .value_counts()"
   ]
  },
  {
   "cell_type": "code",
   "execution_count": 154,
   "id": "e187971f-f6e7-4e2d-afc9-317ce7691a9a",
   "metadata": {},
   "outputs": [
    {
     "data": {
      "text/plain": [
       "18     1\n",
       "70     1\n",
       "200    1\n",
       "809    1\n",
       "731    1\n",
       "588    1\n",
       "45     1\n",
       "Name: cars_per_cap, dtype: int64"
      ]
     },
     "execution_count": 154,
     "metadata": {},
     "output_type": "execute_result"
    }
   ],
   "source": [
    "cars['cars_per_cap'].value_counts()"
   ]
  },
  {
   "cell_type": "markdown",
   "id": "c3e0287c-274a-4c05-ae67-331d218a6441",
   "metadata": {},
   "source": [
    "También, podemos mostrarlo en modo de porcentajes"
   ]
  },
  {
   "cell_type": "code",
   "execution_count": 155,
   "id": "fd187c61-ca4a-4dd9-8eea-46013344a73c",
   "metadata": {},
   "outputs": [
    {
     "data": {
      "text/plain": [
       "18     0.142857\n",
       "70     0.142857\n",
       "200    0.142857\n",
       "809    0.142857\n",
       "731    0.142857\n",
       "588    0.142857\n",
       "45     0.142857\n",
       "Name: cars_per_cap, dtype: float64"
      ]
     },
     "execution_count": 155,
     "metadata": {},
     "output_type": "execute_result"
    }
   ],
   "source": [
    "cars['cars_per_cap'].value_counts(normalize = True)"
   ]
  },
  {
   "cell_type": "markdown",
   "id": "f620622b-e84b-4863-b298-7d5749564121",
   "metadata": {},
   "source": [
    "## Método .groupby()"
   ]
  },
  {
   "cell_type": "markdown",
   "id": "c4ecbe5b-a720-4aeb-b284-3deef7bcced4",
   "metadata": {},
   "source": [
    "Nos ayuda a realizar múltiples cálculos a columnas agrupadas por algún criterio usándolo a la par con el método .agg()"
   ]
  },
  {
   "cell_type": "code",
   "execution_count": 156,
   "id": "4d04308b-4a83-48f1-b45b-eea9f808b6b1",
   "metadata": {},
   "outputs": [
    {
     "data": {
      "text/plain": [
       "drives_right\n",
       "False    1337\n",
       "True     1124\n",
       "Name: cars_per_cap, dtype: int64"
      ]
     },
     "execution_count": 156,
     "metadata": {},
     "output_type": "execute_result"
    }
   ],
   "source": [
    "cars.groupby('drives_right')['cars_per_cap'].sum()\n",
    "\n",
    "# primero agrupa el dataframe por la columna drives right, luego, toma los valores de la columna cars_per_cap y suma según si manejaban del lado\n",
    "# derecho o izquierdo."
   ]
  },
  {
   "cell_type": "code",
   "execution_count": 157,
   "id": "11cb6bd6-93c9-4a5a-9754-9a871649f65c",
   "metadata": {},
   "outputs": [
    {
     "data": {
      "text/html": [
       "<div>\n",
       "<style scoped>\n",
       "    .dataframe tbody tr th:only-of-type {\n",
       "        vertical-align: middle;\n",
       "    }\n",
       "\n",
       "    .dataframe tbody tr th {\n",
       "        vertical-align: top;\n",
       "    }\n",
       "\n",
       "    .dataframe thead th {\n",
       "        text-align: right;\n",
       "    }\n",
       "</style>\n",
       "<table border=\"1\" class=\"dataframe\">\n",
       "  <thead>\n",
       "    <tr style=\"text-align: right;\">\n",
       "      <th></th>\n",
       "      <th>cars_per_cap</th>\n",
       "      <th>cpc100</th>\n",
       "    </tr>\n",
       "    <tr>\n",
       "      <th>drives_right</th>\n",
       "      <th></th>\n",
       "      <th></th>\n",
       "    </tr>\n",
       "  </thead>\n",
       "  <tbody>\n",
       "    <tr>\n",
       "      <th>False</th>\n",
       "      <td>1337</td>\n",
       "      <td>13.37</td>\n",
       "    </tr>\n",
       "    <tr>\n",
       "      <th>True</th>\n",
       "      <td>1124</td>\n",
       "      <td>11.24</td>\n",
       "    </tr>\n",
       "  </tbody>\n",
       "</table>\n",
       "</div>"
      ],
      "text/plain": [
       "              cars_per_cap  cpc100\n",
       "drives_right                      \n",
       "False                 1337   13.37\n",
       "True                  1124   11.24"
      ]
     },
     "execution_count": 157,
     "metadata": {},
     "output_type": "execute_result"
    }
   ],
   "source": [
    "cars.groupby('drives_right').sum()\n",
    "\n",
    "# aplica la función sum a las columnas que pueda"
   ]
  },
  {
   "cell_type": "markdown",
   "id": "7a5fbd9a-f216-4862-804c-949832ca3587",
   "metadata": {},
   "source": [
    "Podemos agrupar también por dos ó más columnas de la siguiente manera"
   ]
  },
  {
   "cell_type": "code",
   "execution_count": 158,
   "id": "1f6e90cb-314d-4a12-bb0f-cb4f09b19d11",
   "metadata": {},
   "outputs": [
    {
     "data": {
      "text/plain": [
       "drives_right  country      \n",
       "False         Australia        731\n",
       "              India             18\n",
       "              Japan            588\n",
       "True          Egypt             45\n",
       "              Morocco           70\n",
       "              Russia           200\n",
       "              United States    809\n",
       "Name: cars_per_cap, dtype: int64"
      ]
     },
     "execution_count": 158,
     "metadata": {},
     "output_type": "execute_result"
    }
   ],
   "source": [
    "cars.groupby(['drives_right', 'country'])['cars_per_cap'].sum()"
   ]
  },
  {
   "cell_type": "markdown",
   "id": "1e940813-adeb-4562-956b-2ca81eb8721b",
   "metadata": {},
   "source": [
    "Combinando esto con el método .agg(), podemos hacer cálculos como los siguientes"
   ]
  },
  {
   "cell_type": "code",
   "execution_count": 159,
   "id": "23526d3c-7e8a-4e4a-aee6-91b6f00b29be",
   "metadata": {},
   "outputs": [
    {
     "data": {
      "text/html": [
       "<div>\n",
       "<style scoped>\n",
       "    .dataframe tbody tr th:only-of-type {\n",
       "        vertical-align: middle;\n",
       "    }\n",
       "\n",
       "    .dataframe tbody tr th {\n",
       "        vertical-align: top;\n",
       "    }\n",
       "\n",
       "    .dataframe thead tr th {\n",
       "        text-align: left;\n",
       "    }\n",
       "\n",
       "    .dataframe thead tr:last-of-type th {\n",
       "        text-align: right;\n",
       "    }\n",
       "</style>\n",
       "<table border=\"1\" class=\"dataframe\">\n",
       "  <thead>\n",
       "    <tr>\n",
       "      <th></th>\n",
       "      <th colspan=\"3\" halign=\"left\">cars_per_cap</th>\n",
       "      <th colspan=\"3\" halign=\"left\">cpc100</th>\n",
       "    </tr>\n",
       "    <tr>\n",
       "      <th></th>\n",
       "      <th>amin</th>\n",
       "      <th>amax</th>\n",
       "      <th>mean</th>\n",
       "      <th>amin</th>\n",
       "      <th>amax</th>\n",
       "      <th>mean</th>\n",
       "    </tr>\n",
       "    <tr>\n",
       "      <th>drives_right</th>\n",
       "      <th></th>\n",
       "      <th></th>\n",
       "      <th></th>\n",
       "      <th></th>\n",
       "      <th></th>\n",
       "      <th></th>\n",
       "    </tr>\n",
       "  </thead>\n",
       "  <tbody>\n",
       "    <tr>\n",
       "      <th>False</th>\n",
       "      <td>18</td>\n",
       "      <td>731</td>\n",
       "      <td>445.666667</td>\n",
       "      <td>0.18</td>\n",
       "      <td>7.31</td>\n",
       "      <td>4.456667</td>\n",
       "    </tr>\n",
       "    <tr>\n",
       "      <th>True</th>\n",
       "      <td>45</td>\n",
       "      <td>809</td>\n",
       "      <td>281.000000</td>\n",
       "      <td>0.45</td>\n",
       "      <td>8.09</td>\n",
       "      <td>2.810000</td>\n",
       "    </tr>\n",
       "  </tbody>\n",
       "</table>\n",
       "</div>"
      ],
      "text/plain": [
       "             cars_per_cap                  cpc100                \n",
       "                     amin amax        mean   amin  amax      mean\n",
       "drives_right                                                     \n",
       "False                  18  731  445.666667   0.18  7.31  4.456667\n",
       "True                   45  809  281.000000   0.45  8.09  2.810000"
      ]
     },
     "execution_count": 159,
     "metadata": {},
     "output_type": "execute_result"
    }
   ],
   "source": [
    "cars.groupby('drives_right').agg([np.min, np.max, np.mean])\n",
    "\n",
    "# aplica las funciones que aparecen en la lista dentro de args a todas las columnas que se puede "
   ]
  },
  {
   "cell_type": "code",
   "execution_count": 160,
   "id": "d9650956-1c72-4744-b5b2-a6bfe3ea51cc",
   "metadata": {},
   "outputs": [
    {
     "data": {
      "text/html": [
       "<div>\n",
       "<style scoped>\n",
       "    .dataframe tbody tr th:only-of-type {\n",
       "        vertical-align: middle;\n",
       "    }\n",
       "\n",
       "    .dataframe tbody tr th {\n",
       "        vertical-align: top;\n",
       "    }\n",
       "\n",
       "    .dataframe thead th {\n",
       "        text-align: right;\n",
       "    }\n",
       "</style>\n",
       "<table border=\"1\" class=\"dataframe\">\n",
       "  <thead>\n",
       "    <tr style=\"text-align: right;\">\n",
       "      <th></th>\n",
       "      <th>amin</th>\n",
       "      <th>amax</th>\n",
       "      <th>mean</th>\n",
       "    </tr>\n",
       "    <tr>\n",
       "      <th>drives_right</th>\n",
       "      <th></th>\n",
       "      <th></th>\n",
       "      <th></th>\n",
       "    </tr>\n",
       "  </thead>\n",
       "  <tbody>\n",
       "    <tr>\n",
       "      <th>False</th>\n",
       "      <td>18</td>\n",
       "      <td>731</td>\n",
       "      <td>445.666667</td>\n",
       "    </tr>\n",
       "    <tr>\n",
       "      <th>True</th>\n",
       "      <td>45</td>\n",
       "      <td>809</td>\n",
       "      <td>281.000000</td>\n",
       "    </tr>\n",
       "  </tbody>\n",
       "</table>\n",
       "</div>"
      ],
      "text/plain": [
       "              amin  amax        mean\n",
       "drives_right                        \n",
       "False           18   731  445.666667\n",
       "True            45   809  281.000000"
      ]
     },
     "execution_count": 160,
     "metadata": {},
     "output_type": "execute_result"
    }
   ],
   "source": [
    "cars.groupby('drives_right')['cars_per_cap'].agg([np.min, np.max, np.mean])\n",
    "\n",
    "# aplica las funciones a la columna cars per cap agrupados segun si manejan del lado derecho"
   ]
  },
  {
   "cell_type": "markdown",
   "id": "f35a86ef-fb55-4edd-86fc-e723bb3471f4",
   "metadata": {},
   "source": [
    "También podemos aplicar esto a ciertas columnas"
   ]
  },
  {
   "cell_type": "code",
   "execution_count": 161,
   "id": "2b42a2f4-cc65-40f5-8063-08df8f8cf825",
   "metadata": {},
   "outputs": [
    {
     "name": "stderr",
     "output_type": "stream",
     "text": [
      "<ipython-input-161-b89de0c7f6ef>:1: FutureWarning: Indexing with multiple keys (implicitly converted to a tuple of keys) will be deprecated, use a list instead.\n",
      "  cars.groupby('drives_right')['cars_per_cap', 'cpc100'].agg([np.min, np.max, np.mean])\n"
     ]
    },
    {
     "data": {
      "text/html": [
       "<div>\n",
       "<style scoped>\n",
       "    .dataframe tbody tr th:only-of-type {\n",
       "        vertical-align: middle;\n",
       "    }\n",
       "\n",
       "    .dataframe tbody tr th {\n",
       "        vertical-align: top;\n",
       "    }\n",
       "\n",
       "    .dataframe thead tr th {\n",
       "        text-align: left;\n",
       "    }\n",
       "\n",
       "    .dataframe thead tr:last-of-type th {\n",
       "        text-align: right;\n",
       "    }\n",
       "</style>\n",
       "<table border=\"1\" class=\"dataframe\">\n",
       "  <thead>\n",
       "    <tr>\n",
       "      <th></th>\n",
       "      <th colspan=\"3\" halign=\"left\">cars_per_cap</th>\n",
       "      <th colspan=\"3\" halign=\"left\">cpc100</th>\n",
       "    </tr>\n",
       "    <tr>\n",
       "      <th></th>\n",
       "      <th>amin</th>\n",
       "      <th>amax</th>\n",
       "      <th>mean</th>\n",
       "      <th>amin</th>\n",
       "      <th>amax</th>\n",
       "      <th>mean</th>\n",
       "    </tr>\n",
       "    <tr>\n",
       "      <th>drives_right</th>\n",
       "      <th></th>\n",
       "      <th></th>\n",
       "      <th></th>\n",
       "      <th></th>\n",
       "      <th></th>\n",
       "      <th></th>\n",
       "    </tr>\n",
       "  </thead>\n",
       "  <tbody>\n",
       "    <tr>\n",
       "      <th>False</th>\n",
       "      <td>18</td>\n",
       "      <td>731</td>\n",
       "      <td>445.666667</td>\n",
       "      <td>0.18</td>\n",
       "      <td>7.31</td>\n",
       "      <td>4.456667</td>\n",
       "    </tr>\n",
       "    <tr>\n",
       "      <th>True</th>\n",
       "      <td>45</td>\n",
       "      <td>809</td>\n",
       "      <td>281.000000</td>\n",
       "      <td>0.45</td>\n",
       "      <td>8.09</td>\n",
       "      <td>2.810000</td>\n",
       "    </tr>\n",
       "  </tbody>\n",
       "</table>\n",
       "</div>"
      ],
      "text/plain": [
       "             cars_per_cap                  cpc100                \n",
       "                     amin amax        mean   amin  amax      mean\n",
       "drives_right                                                     \n",
       "False                  18  731  445.666667   0.18  7.31  4.456667\n",
       "True                   45  809  281.000000   0.45  8.09  2.810000"
      ]
     },
     "execution_count": 161,
     "metadata": {},
     "output_type": "execute_result"
    }
   ],
   "source": [
    "cars.groupby('drives_right')['cars_per_cap', 'cpc100'].agg([np.min, np.max, np.mean])"
   ]
  },
  {
   "cell_type": "markdown",
   "id": "d3d3ba8e-98d6-48cc-8191-01ee2d585c71",
   "metadata": {},
   "source": [
    "## Tablas dinámicas "
   ]
  },
  {
   "cell_type": "markdown",
   "id": "a4f16263-8ebd-4f53-941a-88af8924687f",
   "metadata": {},
   "source": [
    "Para crear una tabla dinámica, usamos el método .pivot_table(), veremos algunos de sus argumentos. Generalmente tienen la misma función que groupby() pero los resultados lucen diferentes"
   ]
  },
  {
   "cell_type": "code",
   "execution_count": 162,
   "id": "dabebc6f-461a-41eb-be29-b13634c77e03",
   "metadata": {},
   "outputs": [
    {
     "data": {
      "text/html": [
       "<div>\n",
       "<style scoped>\n",
       "    .dataframe tbody tr th:only-of-type {\n",
       "        vertical-align: middle;\n",
       "    }\n",
       "\n",
       "    .dataframe tbody tr th {\n",
       "        vertical-align: top;\n",
       "    }\n",
       "\n",
       "    .dataframe thead th {\n",
       "        text-align: right;\n",
       "    }\n",
       "</style>\n",
       "<table border=\"1\" class=\"dataframe\">\n",
       "  <thead>\n",
       "    <tr style=\"text-align: right;\">\n",
       "      <th></th>\n",
       "      <th>cpc100</th>\n",
       "    </tr>\n",
       "    <tr>\n",
       "      <th>drives_right</th>\n",
       "      <th></th>\n",
       "    </tr>\n",
       "  </thead>\n",
       "  <tbody>\n",
       "    <tr>\n",
       "      <th>False</th>\n",
       "      <td>4.456667</td>\n",
       "    </tr>\n",
       "    <tr>\n",
       "      <th>True</th>\n",
       "      <td>2.810000</td>\n",
       "    </tr>\n",
       "  </tbody>\n",
       "</table>\n",
       "</div>"
      ],
      "text/plain": [
       "                cpc100\n",
       "drives_right          \n",
       "False         4.456667\n",
       "True          2.810000"
      ]
     },
     "execution_count": 162,
     "metadata": {},
     "output_type": "execute_result"
    }
   ],
   "source": [
    "cars.pivot_table(values = 'cpc100', index = 'drives_right')\n",
    "\n",
    "# values serán los valores a los que se les aplicará la función, mientras que index es la etiqueta de las filas\n",
    "# por defecto la tabla dinámica saca la el promedio (ver tabla de arriba)"
   ]
  },
  {
   "cell_type": "markdown",
   "id": "1b20a229-adf5-4dc8-8135-6ea9c3dfb0d3",
   "metadata": {},
   "source": [
    "También podemos aplicar más de una función"
   ]
  },
  {
   "cell_type": "code",
   "execution_count": 163,
   "id": "3cb9c646-0b2a-46b3-99da-16daa2a30c78",
   "metadata": {},
   "outputs": [
    {
     "data": {
      "text/html": [
       "<div>\n",
       "<style scoped>\n",
       "    .dataframe tbody tr th:only-of-type {\n",
       "        vertical-align: middle;\n",
       "    }\n",
       "\n",
       "    .dataframe tbody tr th {\n",
       "        vertical-align: top;\n",
       "    }\n",
       "\n",
       "    .dataframe thead tr th {\n",
       "        text-align: left;\n",
       "    }\n",
       "\n",
       "    .dataframe thead tr:last-of-type th {\n",
       "        text-align: right;\n",
       "    }\n",
       "</style>\n",
       "<table border=\"1\" class=\"dataframe\">\n",
       "  <thead>\n",
       "    <tr>\n",
       "      <th></th>\n",
       "      <th>mean</th>\n",
       "      <th>median</th>\n",
       "    </tr>\n",
       "    <tr>\n",
       "      <th></th>\n",
       "      <th>cpc100</th>\n",
       "      <th>cpc100</th>\n",
       "    </tr>\n",
       "    <tr>\n",
       "      <th>drives_right</th>\n",
       "      <th></th>\n",
       "      <th></th>\n",
       "    </tr>\n",
       "  </thead>\n",
       "  <tbody>\n",
       "    <tr>\n",
       "      <th>False</th>\n",
       "      <td>4.456667</td>\n",
       "      <td>5.88</td>\n",
       "    </tr>\n",
       "    <tr>\n",
       "      <th>True</th>\n",
       "      <td>2.810000</td>\n",
       "      <td>1.35</td>\n",
       "    </tr>\n",
       "  </tbody>\n",
       "</table>\n",
       "</div>"
      ],
      "text/plain": [
       "                  mean median\n",
       "                cpc100 cpc100\n",
       "drives_right                 \n",
       "False         4.456667   5.88\n",
       "True          2.810000   1.35"
      ]
     },
     "execution_count": 163,
     "metadata": {},
     "output_type": "execute_result"
    }
   ],
   "source": [
    "cars.pivot_table(values = 'cpc100', index = 'drives_right', aggfunc = [np.mean, np.median])"
   ]
  },
  {
   "cell_type": "markdown",
   "id": "8e368fc2-dd53-425f-bdef-70d27437bb9d",
   "metadata": {},
   "source": [
    "También podemos pasar más de un índice "
   ]
  },
  {
   "cell_type": "code",
   "execution_count": 164,
   "id": "95b37f3f-7945-4c2c-8edf-c37181aa4e5b",
   "metadata": {},
   "outputs": [
    {
     "data": {
      "text/html": [
       "<div>\n",
       "<style scoped>\n",
       "    .dataframe tbody tr th:only-of-type {\n",
       "        vertical-align: middle;\n",
       "    }\n",
       "\n",
       "    .dataframe tbody tr th {\n",
       "        vertical-align: top;\n",
       "    }\n",
       "\n",
       "    .dataframe thead tr th {\n",
       "        text-align: left;\n",
       "    }\n",
       "\n",
       "    .dataframe thead tr:last-of-type th {\n",
       "        text-align: right;\n",
       "    }\n",
       "</style>\n",
       "<table border=\"1\" class=\"dataframe\">\n",
       "  <thead>\n",
       "    <tr>\n",
       "      <th></th>\n",
       "      <th></th>\n",
       "      <th>mean</th>\n",
       "      <th>median</th>\n",
       "    </tr>\n",
       "    <tr>\n",
       "      <th></th>\n",
       "      <th></th>\n",
       "      <th>cpc100</th>\n",
       "      <th>cpc100</th>\n",
       "    </tr>\n",
       "    <tr>\n",
       "      <th>drives_right</th>\n",
       "      <th>country</th>\n",
       "      <th></th>\n",
       "      <th></th>\n",
       "    </tr>\n",
       "  </thead>\n",
       "  <tbody>\n",
       "    <tr>\n",
       "      <th rowspan=\"3\" valign=\"top\">False</th>\n",
       "      <th>Australia</th>\n",
       "      <td>7.31</td>\n",
       "      <td>7.31</td>\n",
       "    </tr>\n",
       "    <tr>\n",
       "      <th>India</th>\n",
       "      <td>0.18</td>\n",
       "      <td>0.18</td>\n",
       "    </tr>\n",
       "    <tr>\n",
       "      <th>Japan</th>\n",
       "      <td>5.88</td>\n",
       "      <td>5.88</td>\n",
       "    </tr>\n",
       "    <tr>\n",
       "      <th rowspan=\"4\" valign=\"top\">True</th>\n",
       "      <th>Egypt</th>\n",
       "      <td>0.45</td>\n",
       "      <td>0.45</td>\n",
       "    </tr>\n",
       "    <tr>\n",
       "      <th>Morocco</th>\n",
       "      <td>0.70</td>\n",
       "      <td>0.70</td>\n",
       "    </tr>\n",
       "    <tr>\n",
       "      <th>Russia</th>\n",
       "      <td>2.00</td>\n",
       "      <td>2.00</td>\n",
       "    </tr>\n",
       "    <tr>\n",
       "      <th>United States</th>\n",
       "      <td>8.09</td>\n",
       "      <td>8.09</td>\n",
       "    </tr>\n",
       "  </tbody>\n",
       "</table>\n",
       "</div>"
      ],
      "text/plain": [
       "                             mean median\n",
       "                           cpc100 cpc100\n",
       "drives_right country                    \n",
       "False        Australia       7.31   7.31\n",
       "             India           0.18   0.18\n",
       "             Japan           5.88   5.88\n",
       "True         Egypt           0.45   0.45\n",
       "             Morocco         0.70   0.70\n",
       "             Russia          2.00   2.00\n",
       "             United States   8.09   8.09"
      ]
     },
     "execution_count": 164,
     "metadata": {},
     "output_type": "execute_result"
    }
   ],
   "source": [
    "cars.pivot_table(values = 'cpc100', index = ['drives_right', 'country'], aggfunc = [np.mean, np.median])"
   ]
  },
  {
   "cell_type": "markdown",
   "id": "dd980143-8d61-4ade-afc8-2dcd51bb0bb2",
   "metadata": {},
   "source": [
    "O hacerlo de la siguiente manera"
   ]
  },
  {
   "cell_type": "code",
   "execution_count": 165,
   "id": "3db44818-2163-4025-b8ec-9eed652c6053",
   "metadata": {},
   "outputs": [
    {
     "data": {
      "text/html": [
       "<div>\n",
       "<style scoped>\n",
       "    .dataframe tbody tr th:only-of-type {\n",
       "        vertical-align: middle;\n",
       "    }\n",
       "\n",
       "    .dataframe tbody tr th {\n",
       "        vertical-align: top;\n",
       "    }\n",
       "\n",
       "    .dataframe thead th {\n",
       "        text-align: right;\n",
       "    }\n",
       "</style>\n",
       "<table border=\"1\" class=\"dataframe\">\n",
       "  <thead>\n",
       "    <tr style=\"text-align: right;\">\n",
       "      <th>country</th>\n",
       "      <th>Australia</th>\n",
       "      <th>Egypt</th>\n",
       "      <th>India</th>\n",
       "      <th>Japan</th>\n",
       "      <th>Morocco</th>\n",
       "      <th>Russia</th>\n",
       "      <th>United States</th>\n",
       "    </tr>\n",
       "    <tr>\n",
       "      <th>drives_right</th>\n",
       "      <th></th>\n",
       "      <th></th>\n",
       "      <th></th>\n",
       "      <th></th>\n",
       "      <th></th>\n",
       "      <th></th>\n",
       "      <th></th>\n",
       "    </tr>\n",
       "  </thead>\n",
       "  <tbody>\n",
       "    <tr>\n",
       "      <th>False</th>\n",
       "      <td>7.31</td>\n",
       "      <td>NaN</td>\n",
       "      <td>0.18</td>\n",
       "      <td>5.88</td>\n",
       "      <td>NaN</td>\n",
       "      <td>NaN</td>\n",
       "      <td>NaN</td>\n",
       "    </tr>\n",
       "    <tr>\n",
       "      <th>True</th>\n",
       "      <td>NaN</td>\n",
       "      <td>0.45</td>\n",
       "      <td>NaN</td>\n",
       "      <td>NaN</td>\n",
       "      <td>0.7</td>\n",
       "      <td>2.0</td>\n",
       "      <td>8.09</td>\n",
       "    </tr>\n",
       "  </tbody>\n",
       "</table>\n",
       "</div>"
      ],
      "text/plain": [
       "country       Australia  Egypt  India  Japan  Morocco  Russia  United States\n",
       "drives_right                                                                \n",
       "False              7.31    NaN   0.18   5.88      NaN     NaN            NaN\n",
       "True                NaN   0.45    NaN    NaN      0.7     2.0           8.09"
      ]
     },
     "execution_count": 165,
     "metadata": {},
     "output_type": "execute_result"
    }
   ],
   "source": [
    "cars.pivot_table(values = 'cpc100', index = 'drives_right', aggfunc = np.mean, columns = 'country')"
   ]
  },
  {
   "cell_type": "markdown",
   "id": "85e26272-27ee-4877-a7ba-73aaef56cf10",
   "metadata": {},
   "source": [
    "Podemos usar el parámetro fill_value = 0, para reemplazar nos NaN por ceros.\n",
    "\n",
    "Por otra parte el parámetro margins = True nos muestra los totales por fila, columna y de toda la tabla como en excel"
   ]
  },
  {
   "cell_type": "code",
   "execution_count": 166,
   "id": "567f3aea-184c-4685-94dc-976f00d474df",
   "metadata": {},
   "outputs": [
    {
     "data": {
      "text/html": [
       "<div>\n",
       "<style scoped>\n",
       "    .dataframe tbody tr th:only-of-type {\n",
       "        vertical-align: middle;\n",
       "    }\n",
       "\n",
       "    .dataframe tbody tr th {\n",
       "        vertical-align: top;\n",
       "    }\n",
       "\n",
       "    .dataframe thead th {\n",
       "        text-align: right;\n",
       "    }\n",
       "</style>\n",
       "<table border=\"1\" class=\"dataframe\">\n",
       "  <thead>\n",
       "    <tr style=\"text-align: right;\">\n",
       "      <th>country</th>\n",
       "      <th>Australia</th>\n",
       "      <th>Egypt</th>\n",
       "      <th>India</th>\n",
       "      <th>Japan</th>\n",
       "      <th>Morocco</th>\n",
       "      <th>Russia</th>\n",
       "      <th>United States</th>\n",
       "      <th>All</th>\n",
       "    </tr>\n",
       "    <tr>\n",
       "      <th>drives_right</th>\n",
       "      <th></th>\n",
       "      <th></th>\n",
       "      <th></th>\n",
       "      <th></th>\n",
       "      <th></th>\n",
       "      <th></th>\n",
       "      <th></th>\n",
       "      <th></th>\n",
       "    </tr>\n",
       "  </thead>\n",
       "  <tbody>\n",
       "    <tr>\n",
       "      <th>False</th>\n",
       "      <td>7.31</td>\n",
       "      <td>0.00</td>\n",
       "      <td>0.18</td>\n",
       "      <td>5.88</td>\n",
       "      <td>0.0</td>\n",
       "      <td>0</td>\n",
       "      <td>0.00</td>\n",
       "      <td>4.456667</td>\n",
       "    </tr>\n",
       "    <tr>\n",
       "      <th>True</th>\n",
       "      <td>0.00</td>\n",
       "      <td>0.45</td>\n",
       "      <td>0.00</td>\n",
       "      <td>0.00</td>\n",
       "      <td>0.7</td>\n",
       "      <td>2</td>\n",
       "      <td>8.09</td>\n",
       "      <td>2.810000</td>\n",
       "    </tr>\n",
       "    <tr>\n",
       "      <th>All</th>\n",
       "      <td>7.31</td>\n",
       "      <td>0.45</td>\n",
       "      <td>0.18</td>\n",
       "      <td>5.88</td>\n",
       "      <td>0.7</td>\n",
       "      <td>2</td>\n",
       "      <td>8.09</td>\n",
       "      <td>3.515714</td>\n",
       "    </tr>\n",
       "  </tbody>\n",
       "</table>\n",
       "</div>"
      ],
      "text/plain": [
       "country       Australia  Egypt  India  Japan  Morocco  Russia  United States  \\\n",
       "drives_right                                                                   \n",
       "False              7.31   0.00   0.18   5.88      0.0       0           0.00   \n",
       "True               0.00   0.45   0.00   0.00      0.7       2           8.09   \n",
       "All                7.31   0.45   0.18   5.88      0.7       2           8.09   \n",
       "\n",
       "country            All  \n",
       "drives_right            \n",
       "False         4.456667  \n",
       "True          2.810000  \n",
       "All           3.515714  "
      ]
     },
     "execution_count": 166,
     "metadata": {},
     "output_type": "execute_result"
    }
   ],
   "source": [
    "cars.pivot_table(values = 'cpc100', index = 'drives_right', aggfunc = np.mean, columns = 'country', fill_value = 0, margins = True)"
   ]
  },
  {
   "cell_type": "markdown",
   "id": "3b255f80-f79d-453e-9a19-d9112848a57d",
   "metadata": {},
   "source": [
    "## índices"
   ]
  },
  {
   "cell_type": "markdown",
   "id": "d44ab2a2-cbee-47ba-9e19-28719b052a73",
   "metadata": {},
   "source": [
    "Para fijar un indice en un dataframe, lo hacemos con el método .set_index('nombre_columna') y para remover el o los índices .reset_index(), si además, en este último método ponemos el parámetro drop = True, la columna con los indices quedará eliminada.\n",
    "\n",
    "También, podemos fijar más de un índice. Para poder indexar el dataframe con .loc, debemos hacerlo de la siguiente manera\n",
    "\n",
    "filas = [('nombre_indice1', 'nombre_indice2'), ('nombre2_indice1', 'nombre2_indice2')]\n",
    "\n",
    "df.loc[filas]\n",
    "\n",
    "Esto nos devolverá las filas que cumplan lo que queremos"
   ]
  },
  {
   "cell_type": "markdown",
   "id": "ad3b7e5b-71cd-4587-8dad-e1a3fe31b747",
   "metadata": {},
   "source": [
    "También podemos ordenar el dataframe según el indice que tengan, con el método .sort_index(), veremos algunos parámetros"
   ]
  },
  {
   "cell_type": "code",
   "execution_count": 167,
   "id": "c253a109-304a-48fc-b14d-b3d6a1dbcb2b",
   "metadata": {},
   "outputs": [
    {
     "data": {
      "text/html": [
       "<div>\n",
       "<style scoped>\n",
       "    .dataframe tbody tr th:only-of-type {\n",
       "        vertical-align: middle;\n",
       "    }\n",
       "\n",
       "    .dataframe tbody tr th {\n",
       "        vertical-align: top;\n",
       "    }\n",
       "\n",
       "    .dataframe thead th {\n",
       "        text-align: right;\n",
       "    }\n",
       "</style>\n",
       "<table border=\"1\" class=\"dataframe\">\n",
       "  <thead>\n",
       "    <tr style=\"text-align: right;\">\n",
       "      <th></th>\n",
       "      <th></th>\n",
       "      <th>cars_per_cap</th>\n",
       "      <th>cpc100</th>\n",
       "    </tr>\n",
       "    <tr>\n",
       "      <th>drives_right</th>\n",
       "      <th>country</th>\n",
       "      <th></th>\n",
       "      <th></th>\n",
       "    </tr>\n",
       "  </thead>\n",
       "  <tbody>\n",
       "    <tr>\n",
       "      <th>True</th>\n",
       "      <th>United States</th>\n",
       "      <td>809</td>\n",
       "      <td>8.09</td>\n",
       "    </tr>\n",
       "    <tr>\n",
       "      <th rowspan=\"3\" valign=\"top\">False</th>\n",
       "      <th>Australia</th>\n",
       "      <td>731</td>\n",
       "      <td>7.31</td>\n",
       "    </tr>\n",
       "    <tr>\n",
       "      <th>Japan</th>\n",
       "      <td>588</td>\n",
       "      <td>5.88</td>\n",
       "    </tr>\n",
       "    <tr>\n",
       "      <th>India</th>\n",
       "      <td>18</td>\n",
       "      <td>0.18</td>\n",
       "    </tr>\n",
       "    <tr>\n",
       "      <th rowspan=\"3\" valign=\"top\">True</th>\n",
       "      <th>Russia</th>\n",
       "      <td>200</td>\n",
       "      <td>2.00</td>\n",
       "    </tr>\n",
       "    <tr>\n",
       "      <th>Morocco</th>\n",
       "      <td>70</td>\n",
       "      <td>0.70</td>\n",
       "    </tr>\n",
       "    <tr>\n",
       "      <th>Egypt</th>\n",
       "      <td>45</td>\n",
       "      <td>0.45</td>\n",
       "    </tr>\n",
       "  </tbody>\n",
       "</table>\n",
       "</div>"
      ],
      "text/plain": [
       "                            cars_per_cap  cpc100\n",
       "drives_right country                            \n",
       "True         United States           809    8.09\n",
       "False        Australia               731    7.31\n",
       "             Japan                   588    5.88\n",
       "             India                    18    0.18\n",
       "True         Russia                  200    2.00\n",
       "             Morocco                  70    0.70\n",
       "             Egypt                    45    0.45"
      ]
     },
     "execution_count": 167,
     "metadata": {},
     "output_type": "execute_result"
    }
   ],
   "source": [
    "cars1 = cars.set_index(['drives_right', 'country'])\n",
    "cars1"
   ]
  },
  {
   "cell_type": "code",
   "execution_count": 168,
   "id": "4434f3e5-102b-43ac-bfe0-2474ee951cb1",
   "metadata": {},
   "outputs": [
    {
     "data": {
      "text/html": [
       "<div>\n",
       "<style scoped>\n",
       "    .dataframe tbody tr th:only-of-type {\n",
       "        vertical-align: middle;\n",
       "    }\n",
       "\n",
       "    .dataframe tbody tr th {\n",
       "        vertical-align: top;\n",
       "    }\n",
       "\n",
       "    .dataframe thead th {\n",
       "        text-align: right;\n",
       "    }\n",
       "</style>\n",
       "<table border=\"1\" class=\"dataframe\">\n",
       "  <thead>\n",
       "    <tr style=\"text-align: right;\">\n",
       "      <th></th>\n",
       "      <th></th>\n",
       "      <th>cars_per_cap</th>\n",
       "      <th>cpc100</th>\n",
       "    </tr>\n",
       "    <tr>\n",
       "      <th>drives_right</th>\n",
       "      <th>country</th>\n",
       "      <th></th>\n",
       "      <th></th>\n",
       "    </tr>\n",
       "  </thead>\n",
       "  <tbody>\n",
       "    <tr>\n",
       "      <th rowspan=\"3\" valign=\"top\">False</th>\n",
       "      <th>Australia</th>\n",
       "      <td>731</td>\n",
       "      <td>7.31</td>\n",
       "    </tr>\n",
       "    <tr>\n",
       "      <th>India</th>\n",
       "      <td>18</td>\n",
       "      <td>0.18</td>\n",
       "    </tr>\n",
       "    <tr>\n",
       "      <th>Japan</th>\n",
       "      <td>588</td>\n",
       "      <td>5.88</td>\n",
       "    </tr>\n",
       "    <tr>\n",
       "      <th rowspan=\"4\" valign=\"top\">True</th>\n",
       "      <th>Egypt</th>\n",
       "      <td>45</td>\n",
       "      <td>0.45</td>\n",
       "    </tr>\n",
       "    <tr>\n",
       "      <th>Morocco</th>\n",
       "      <td>70</td>\n",
       "      <td>0.70</td>\n",
       "    </tr>\n",
       "    <tr>\n",
       "      <th>Russia</th>\n",
       "      <td>200</td>\n",
       "      <td>2.00</td>\n",
       "    </tr>\n",
       "    <tr>\n",
       "      <th>United States</th>\n",
       "      <td>809</td>\n",
       "      <td>8.09</td>\n",
       "    </tr>\n",
       "  </tbody>\n",
       "</table>\n",
       "</div>"
      ],
      "text/plain": [
       "                            cars_per_cap  cpc100\n",
       "drives_right country                            \n",
       "False        Australia               731    7.31\n",
       "             India                    18    0.18\n",
       "             Japan                   588    5.88\n",
       "True         Egypt                    45    0.45\n",
       "             Morocco                  70    0.70\n",
       "             Russia                  200    2.00\n",
       "             United States           809    8.09"
      ]
     },
     "execution_count": 168,
     "metadata": {},
     "output_type": "execute_result"
    }
   ],
   "source": [
    "cars1.sort_index()\n",
    "\n",
    "# ordena según el primer conunto de indices"
   ]
  },
  {
   "cell_type": "code",
   "execution_count": 169,
   "id": "80366db7-db14-4dce-8cc3-268fafa95a25",
   "metadata": {},
   "outputs": [
    {
     "data": {
      "text/html": [
       "<div>\n",
       "<style scoped>\n",
       "    .dataframe tbody tr th:only-of-type {\n",
       "        vertical-align: middle;\n",
       "    }\n",
       "\n",
       "    .dataframe tbody tr th {\n",
       "        vertical-align: top;\n",
       "    }\n",
       "\n",
       "    .dataframe thead th {\n",
       "        text-align: right;\n",
       "    }\n",
       "</style>\n",
       "<table border=\"1\" class=\"dataframe\">\n",
       "  <thead>\n",
       "    <tr style=\"text-align: right;\">\n",
       "      <th></th>\n",
       "      <th></th>\n",
       "      <th>cars_per_cap</th>\n",
       "      <th>cpc100</th>\n",
       "    </tr>\n",
       "    <tr>\n",
       "      <th>drives_right</th>\n",
       "      <th>country</th>\n",
       "      <th></th>\n",
       "      <th></th>\n",
       "    </tr>\n",
       "  </thead>\n",
       "  <tbody>\n",
       "    <tr>\n",
       "      <th>False</th>\n",
       "      <th>Australia</th>\n",
       "      <td>731</td>\n",
       "      <td>7.31</td>\n",
       "    </tr>\n",
       "    <tr>\n",
       "      <th>True</th>\n",
       "      <th>Egypt</th>\n",
       "      <td>45</td>\n",
       "      <td>0.45</td>\n",
       "    </tr>\n",
       "    <tr>\n",
       "      <th rowspan=\"2\" valign=\"top\">False</th>\n",
       "      <th>India</th>\n",
       "      <td>18</td>\n",
       "      <td>0.18</td>\n",
       "    </tr>\n",
       "    <tr>\n",
       "      <th>Japan</th>\n",
       "      <td>588</td>\n",
       "      <td>5.88</td>\n",
       "    </tr>\n",
       "    <tr>\n",
       "      <th rowspan=\"3\" valign=\"top\">True</th>\n",
       "      <th>Morocco</th>\n",
       "      <td>70</td>\n",
       "      <td>0.70</td>\n",
       "    </tr>\n",
       "    <tr>\n",
       "      <th>Russia</th>\n",
       "      <td>200</td>\n",
       "      <td>2.00</td>\n",
       "    </tr>\n",
       "    <tr>\n",
       "      <th>United States</th>\n",
       "      <td>809</td>\n",
       "      <td>8.09</td>\n",
       "    </tr>\n",
       "  </tbody>\n",
       "</table>\n",
       "</div>"
      ],
      "text/plain": [
       "                            cars_per_cap  cpc100\n",
       "drives_right country                            \n",
       "False        Australia               731    7.31\n",
       "True         Egypt                    45    0.45\n",
       "False        India                    18    0.18\n",
       "             Japan                   588    5.88\n",
       "True         Morocco                  70    0.70\n",
       "             Russia                  200    2.00\n",
       "             United States           809    8.09"
      ]
     },
     "execution_count": 169,
     "metadata": {},
     "output_type": "execute_result"
    }
   ],
   "source": [
    "cars1.sort_index(level = 'country')\n",
    "\n",
    "# ordenamos según el segundo conjunto de índices"
   ]
  },
  {
   "cell_type": "markdown",
   "id": "e83c7e99-58e8-4025-a3a2-aa9b728e110e",
   "metadata": {},
   "source": [
    "Lo anterior también se puede aplicar en dos niveles al mismo tiempo de la siguiente manera"
   ]
  },
  {
   "cell_type": "code",
   "execution_count": 170,
   "id": "41e4555e-b9a6-473d-8884-9028782af38b",
   "metadata": {},
   "outputs": [
    {
     "data": {
      "text/html": [
       "<div>\n",
       "<style scoped>\n",
       "    .dataframe tbody tr th:only-of-type {\n",
       "        vertical-align: middle;\n",
       "    }\n",
       "\n",
       "    .dataframe tbody tr th {\n",
       "        vertical-align: top;\n",
       "    }\n",
       "\n",
       "    .dataframe thead th {\n",
       "        text-align: right;\n",
       "    }\n",
       "</style>\n",
       "<table border=\"1\" class=\"dataframe\">\n",
       "  <thead>\n",
       "    <tr style=\"text-align: right;\">\n",
       "      <th></th>\n",
       "      <th></th>\n",
       "      <th>cars_per_cap</th>\n",
       "      <th>cpc100</th>\n",
       "    </tr>\n",
       "    <tr>\n",
       "      <th>drives_right</th>\n",
       "      <th>country</th>\n",
       "      <th></th>\n",
       "      <th></th>\n",
       "    </tr>\n",
       "  </thead>\n",
       "  <tbody>\n",
       "    <tr>\n",
       "      <th rowspan=\"3\" valign=\"top\">True</th>\n",
       "      <th>United States</th>\n",
       "      <td>809</td>\n",
       "      <td>8.09</td>\n",
       "    </tr>\n",
       "    <tr>\n",
       "      <th>Russia</th>\n",
       "      <td>200</td>\n",
       "      <td>2.00</td>\n",
       "    </tr>\n",
       "    <tr>\n",
       "      <th>Morocco</th>\n",
       "      <td>70</td>\n",
       "      <td>0.70</td>\n",
       "    </tr>\n",
       "    <tr>\n",
       "      <th rowspan=\"2\" valign=\"top\">False</th>\n",
       "      <th>Japan</th>\n",
       "      <td>588</td>\n",
       "      <td>5.88</td>\n",
       "    </tr>\n",
       "    <tr>\n",
       "      <th>India</th>\n",
       "      <td>18</td>\n",
       "      <td>0.18</td>\n",
       "    </tr>\n",
       "    <tr>\n",
       "      <th>True</th>\n",
       "      <th>Egypt</th>\n",
       "      <td>45</td>\n",
       "      <td>0.45</td>\n",
       "    </tr>\n",
       "    <tr>\n",
       "      <th>False</th>\n",
       "      <th>Australia</th>\n",
       "      <td>731</td>\n",
       "      <td>7.31</td>\n",
       "    </tr>\n",
       "  </tbody>\n",
       "</table>\n",
       "</div>"
      ],
      "text/plain": [
       "                            cars_per_cap  cpc100\n",
       "drives_right country                            \n",
       "True         United States           809    8.09\n",
       "             Russia                  200    2.00\n",
       "             Morocco                  70    0.70\n",
       "False        Japan                   588    5.88\n",
       "             India                    18    0.18\n",
       "True         Egypt                    45    0.45\n",
       "False        Australia               731    7.31"
      ]
     },
     "execution_count": 170,
     "metadata": {},
     "output_type": "execute_result"
    }
   ],
   "source": [
    "cars1.sort_index(level = ['country', 'drives_right'], ascending = [False, True])"
   ]
  },
  {
   "cell_type": "markdown",
   "id": "a291bb61-965f-4de2-ab03-8802efe15017",
   "metadata": {},
   "source": [
    "## Usando los métodos .loc[] y .iloc[] para indexar tablas dinámicas"
   ]
  },
  {
   "cell_type": "markdown",
   "id": "6323a46e-ed8c-433d-8798-c6b3e5ac4d18",
   "metadata": {},
   "source": [
    "Supongamos que tenemos una columna con fechas en el dataframe, si quisieramos añadir una columna con solamente los años, lo podemos hacer de la siguiente manera.\n",
    "\n",
    "dataframe['año'] = dataframe['columna'].dt.year\n",
    "\n",
    "Podemos cambiar 'year' por 'month' ó 'day'"
   ]
  },
  {
   "cell_type": "code",
   "execution_count": 171,
   "id": "b09d7068-3003-484f-8914-fd3d76c28fc5",
   "metadata": {},
   "outputs": [
    {
     "data": {
      "text/html": [
       "<div>\n",
       "<style scoped>\n",
       "    .dataframe tbody tr th:only-of-type {\n",
       "        vertical-align: middle;\n",
       "    }\n",
       "\n",
       "    .dataframe tbody tr th {\n",
       "        vertical-align: top;\n",
       "    }\n",
       "\n",
       "    .dataframe thead tr th {\n",
       "        text-align: left;\n",
       "    }\n",
       "\n",
       "    .dataframe thead tr:last-of-type th {\n",
       "        text-align: right;\n",
       "    }\n",
       "</style>\n",
       "<table border=\"1\" class=\"dataframe\">\n",
       "  <thead>\n",
       "    <tr>\n",
       "      <th></th>\n",
       "      <th></th>\n",
       "      <th>mean</th>\n",
       "      <th>median</th>\n",
       "    </tr>\n",
       "    <tr>\n",
       "      <th></th>\n",
       "      <th></th>\n",
       "      <th>cpc100</th>\n",
       "      <th>cpc100</th>\n",
       "    </tr>\n",
       "    <tr>\n",
       "      <th>drives_right</th>\n",
       "      <th>country</th>\n",
       "      <th></th>\n",
       "      <th></th>\n",
       "    </tr>\n",
       "  </thead>\n",
       "  <tbody>\n",
       "    <tr>\n",
       "      <th rowspan=\"3\" valign=\"top\">False</th>\n",
       "      <th>Australia</th>\n",
       "      <td>7.31</td>\n",
       "      <td>7.31</td>\n",
       "    </tr>\n",
       "    <tr>\n",
       "      <th>India</th>\n",
       "      <td>0.18</td>\n",
       "      <td>0.18</td>\n",
       "    </tr>\n",
       "    <tr>\n",
       "      <th>Japan</th>\n",
       "      <td>5.88</td>\n",
       "      <td>5.88</td>\n",
       "    </tr>\n",
       "    <tr>\n",
       "      <th rowspan=\"4\" valign=\"top\">True</th>\n",
       "      <th>Egypt</th>\n",
       "      <td>0.45</td>\n",
       "      <td>0.45</td>\n",
       "    </tr>\n",
       "    <tr>\n",
       "      <th>Morocco</th>\n",
       "      <td>0.70</td>\n",
       "      <td>0.70</td>\n",
       "    </tr>\n",
       "    <tr>\n",
       "      <th>Russia</th>\n",
       "      <td>2.00</td>\n",
       "      <td>2.00</td>\n",
       "    </tr>\n",
       "    <tr>\n",
       "      <th>United States</th>\n",
       "      <td>8.09</td>\n",
       "      <td>8.09</td>\n",
       "    </tr>\n",
       "  </tbody>\n",
       "</table>\n",
       "</div>"
      ],
      "text/plain": [
       "                             mean median\n",
       "                           cpc100 cpc100\n",
       "drives_right country                    \n",
       "False        Australia       7.31   7.31\n",
       "             India           0.18   0.18\n",
       "             Japan           5.88   5.88\n",
       "True         Egypt           0.45   0.45\n",
       "             Morocco         0.70   0.70\n",
       "             Russia          2.00   2.00\n",
       "             United States   8.09   8.09"
      ]
     },
     "execution_count": 171,
     "metadata": {},
     "output_type": "execute_result"
    }
   ],
   "source": [
    "tabla_dinamica = cars.pivot_table(values = 'cpc100', index = ['drives_right', 'country'], aggfunc = [np.mean, np.median])\n",
    "tabla_dinamica"
   ]
  },
  {
   "cell_type": "markdown",
   "id": "b5c18723-fa0e-4b77-9c82-d98ac8d835cb",
   "metadata": {},
   "source": [
    "Podemos usar el método loc de la siguiente manera"
   ]
  },
  {
   "cell_type": "code",
   "execution_count": 172,
   "id": "bffda919-8055-463f-a2e4-589371158243",
   "metadata": {},
   "outputs": [
    {
     "data": {
      "text/html": [
       "<div>\n",
       "<style scoped>\n",
       "    .dataframe tbody tr th:only-of-type {\n",
       "        vertical-align: middle;\n",
       "    }\n",
       "\n",
       "    .dataframe tbody tr th {\n",
       "        vertical-align: top;\n",
       "    }\n",
       "\n",
       "    .dataframe thead tr th {\n",
       "        text-align: left;\n",
       "    }\n",
       "\n",
       "    .dataframe thead tr:last-of-type th {\n",
       "        text-align: right;\n",
       "    }\n",
       "</style>\n",
       "<table border=\"1\" class=\"dataframe\">\n",
       "  <thead>\n",
       "    <tr>\n",
       "      <th></th>\n",
       "      <th>mean</th>\n",
       "      <th>median</th>\n",
       "    </tr>\n",
       "    <tr>\n",
       "      <th></th>\n",
       "      <th>cpc100</th>\n",
       "      <th>cpc100</th>\n",
       "    </tr>\n",
       "    <tr>\n",
       "      <th>country</th>\n",
       "      <th></th>\n",
       "      <th></th>\n",
       "    </tr>\n",
       "  </thead>\n",
       "  <tbody>\n",
       "    <tr>\n",
       "      <th>Australia</th>\n",
       "      <td>7.31</td>\n",
       "      <td>7.31</td>\n",
       "    </tr>\n",
       "    <tr>\n",
       "      <th>India</th>\n",
       "      <td>0.18</td>\n",
       "      <td>0.18</td>\n",
       "    </tr>\n",
       "    <tr>\n",
       "      <th>Japan</th>\n",
       "      <td>5.88</td>\n",
       "      <td>5.88</td>\n",
       "    </tr>\n",
       "  </tbody>\n",
       "</table>\n",
       "</div>"
      ],
      "text/plain": [
       "            mean median\n",
       "          cpc100 cpc100\n",
       "country                \n",
       "Australia   7.31   7.31\n",
       "India       0.18   0.18\n",
       "Japan       5.88   5.88"
      ]
     },
     "execution_count": 172,
     "metadata": {},
     "output_type": "execute_result"
    }
   ],
   "source": [
    "tabla_dinamica.loc[False]"
   ]
  },
  {
   "cell_type": "code",
   "execution_count": 173,
   "id": "61655580-bb24-4f37-a172-0eeb3c9eed91",
   "metadata": {},
   "outputs": [
    {
     "data": {
      "text/html": [
       "<div>\n",
       "<style scoped>\n",
       "    .dataframe tbody tr th:only-of-type {\n",
       "        vertical-align: middle;\n",
       "    }\n",
       "\n",
       "    .dataframe tbody tr th {\n",
       "        vertical-align: top;\n",
       "    }\n",
       "\n",
       "    .dataframe thead tr th {\n",
       "        text-align: left;\n",
       "    }\n",
       "\n",
       "    .dataframe thead tr:last-of-type th {\n",
       "        text-align: right;\n",
       "    }\n",
       "</style>\n",
       "<table border=\"1\" class=\"dataframe\">\n",
       "  <thead>\n",
       "    <tr>\n",
       "      <th></th>\n",
       "      <th></th>\n",
       "      <th>mean</th>\n",
       "      <th>median</th>\n",
       "    </tr>\n",
       "    <tr>\n",
       "      <th></th>\n",
       "      <th></th>\n",
       "      <th>cpc100</th>\n",
       "      <th>cpc100</th>\n",
       "    </tr>\n",
       "    <tr>\n",
       "      <th>drives_right</th>\n",
       "      <th>country</th>\n",
       "      <th></th>\n",
       "      <th></th>\n",
       "    </tr>\n",
       "  </thead>\n",
       "  <tbody>\n",
       "    <tr>\n",
       "      <th rowspan=\"3\" valign=\"top\">False</th>\n",
       "      <th>Australia</th>\n",
       "      <td>7.31</td>\n",
       "      <td>7.31</td>\n",
       "    </tr>\n",
       "    <tr>\n",
       "      <th>India</th>\n",
       "      <td>0.18</td>\n",
       "      <td>0.18</td>\n",
       "    </tr>\n",
       "    <tr>\n",
       "      <th>Japan</th>\n",
       "      <td>5.88</td>\n",
       "      <td>5.88</td>\n",
       "    </tr>\n",
       "    <tr>\n",
       "      <th rowspan=\"4\" valign=\"top\">True</th>\n",
       "      <th>Egypt</th>\n",
       "      <td>0.45</td>\n",
       "      <td>0.45</td>\n",
       "    </tr>\n",
       "    <tr>\n",
       "      <th>Morocco</th>\n",
       "      <td>0.70</td>\n",
       "      <td>0.70</td>\n",
       "    </tr>\n",
       "    <tr>\n",
       "      <th>Russia</th>\n",
       "      <td>2.00</td>\n",
       "      <td>2.00</td>\n",
       "    </tr>\n",
       "    <tr>\n",
       "      <th>United States</th>\n",
       "      <td>8.09</td>\n",
       "      <td>8.09</td>\n",
       "    </tr>\n",
       "  </tbody>\n",
       "</table>\n",
       "</div>"
      ],
      "text/plain": [
       "                             mean median\n",
       "                           cpc100 cpc100\n",
       "drives_right country                    \n",
       "False        Australia       7.31   7.31\n",
       "             India           0.18   0.18\n",
       "             Japan           5.88   5.88\n",
       "True         Egypt           0.45   0.45\n",
       "             Morocco         0.70   0.70\n",
       "             Russia          2.00   2.00\n",
       "             United States   8.09   8.09"
      ]
     },
     "execution_count": 173,
     "metadata": {},
     "output_type": "execute_result"
    }
   ],
   "source": [
    "tabla_dinamica.loc[False:True]"
   ]
  },
  {
   "cell_type": "code",
   "execution_count": 174,
   "id": "4dee918b-3522-4ab7-ae2a-3d8435c7bf54",
   "metadata": {},
   "outputs": [
    {
     "data": {
      "text/html": [
       "<div>\n",
       "<style scoped>\n",
       "    .dataframe tbody tr th:only-of-type {\n",
       "        vertical-align: middle;\n",
       "    }\n",
       "\n",
       "    .dataframe tbody tr th {\n",
       "        vertical-align: top;\n",
       "    }\n",
       "\n",
       "    .dataframe thead tr th {\n",
       "        text-align: left;\n",
       "    }\n",
       "\n",
       "    .dataframe thead tr:last-of-type th {\n",
       "        text-align: right;\n",
       "    }\n",
       "</style>\n",
       "<table border=\"1\" class=\"dataframe\">\n",
       "  <thead>\n",
       "    <tr>\n",
       "      <th></th>\n",
       "      <th></th>\n",
       "      <th>mean</th>\n",
       "      <th>median</th>\n",
       "    </tr>\n",
       "    <tr>\n",
       "      <th></th>\n",
       "      <th></th>\n",
       "      <th>cpc100</th>\n",
       "      <th>cpc100</th>\n",
       "    </tr>\n",
       "    <tr>\n",
       "      <th>drives_right</th>\n",
       "      <th>country</th>\n",
       "      <th></th>\n",
       "      <th></th>\n",
       "    </tr>\n",
       "  </thead>\n",
       "  <tbody>\n",
       "    <tr>\n",
       "      <th rowspan=\"3\" valign=\"top\">False</th>\n",
       "      <th>Australia</th>\n",
       "      <td>7.31</td>\n",
       "      <td>7.31</td>\n",
       "    </tr>\n",
       "    <tr>\n",
       "      <th>India</th>\n",
       "      <td>0.18</td>\n",
       "      <td>0.18</td>\n",
       "    </tr>\n",
       "    <tr>\n",
       "      <th>Japan</th>\n",
       "      <td>5.88</td>\n",
       "      <td>5.88</td>\n",
       "    </tr>\n",
       "    <tr>\n",
       "      <th rowspan=\"2\" valign=\"top\">True</th>\n",
       "      <th>Egypt</th>\n",
       "      <td>0.45</td>\n",
       "      <td>0.45</td>\n",
       "    </tr>\n",
       "    <tr>\n",
       "      <th>Morocco</th>\n",
       "      <td>0.70</td>\n",
       "      <td>0.70</td>\n",
       "    </tr>\n",
       "  </tbody>\n",
       "</table>\n",
       "</div>"
      ],
      "text/plain": [
       "                         mean median\n",
       "                       cpc100 cpc100\n",
       "drives_right country                \n",
       "False        Australia   7.31   7.31\n",
       "             India       0.18   0.18\n",
       "             Japan       5.88   5.88\n",
       "True         Egypt       0.45   0.45\n",
       "             Morocco     0.70   0.70"
      ]
     },
     "execution_count": 174,
     "metadata": {},
     "output_type": "execute_result"
    }
   ],
   "source": [
    "tabla_dinamica.loc[(False, 'Australia'):(True, 'Morocco')]\n",
    "\n",
    "# sacamos las filas desde false australia hasta true morocco"
   ]
  },
  {
   "cell_type": "markdown",
   "id": "6a56c9b5-9a0f-4a80-bb59-e8f8c89dbd4c",
   "metadata": {},
   "source": [
    "Tambien podemos obtener ciertas columnas"
   ]
  },
  {
   "cell_type": "code",
   "execution_count": 175,
   "id": "caa5fac9-94de-4a20-b161-ed2b78abf6ac",
   "metadata": {},
   "outputs": [
    {
     "data": {
      "text/plain": [
       "drives_right  country  \n",
       "False         Australia    7.31\n",
       "              India        0.18\n",
       "              Japan        5.88\n",
       "True          Egypt        0.45\n",
       "              Morocco      0.70\n",
       "Name: (mean, cpc100), dtype: float64"
      ]
     },
     "execution_count": 175,
     "metadata": {},
     "output_type": "execute_result"
    }
   ],
   "source": [
    "tabla_dinamica.loc[(False, 'Australia'):(True, 'Morocco'), ('mean', 'cpc100')]"
   ]
  },
  {
   "cell_type": "markdown",
   "id": "df242f31-7221-4fc5-a2e3-2955156eeec3",
   "metadata": {},
   "source": [
    "## Visualizando dataframes"
   ]
  },
  {
   "cell_type": "code",
   "execution_count": 176,
   "id": "3651e45b-07e4-482c-bbff-68a3d60dd46b",
   "metadata": {},
   "outputs": [],
   "source": [
    "import matplotlib.pyplot as plt"
   ]
  },
  {
   "cell_type": "markdown",
   "id": "f659dc3f-f1be-4150-afa9-3b5d9b136d60",
   "metadata": {},
   "source": [
    "Algunos parámetros importantes son\n",
    "\n",
    "dataframe.plot(x = 'nombre de columna del dataframe', y = 'nombre de columna del dataframe', kind = 'line', title = 'titulo')\n",
    "\n",
    "Donde kind es el tipo de gráfico que queremos\n",
    "\n",
    "https://pandas.pydata.org/pandas-docs/version/0.23/generated/pandas.DataFrame.plot.html"
   ]
  },
  {
   "cell_type": "code",
   "execution_count": 184,
   "id": "cf3b8424-4b7d-4eba-8acd-f41373306ea0",
   "metadata": {},
   "outputs": [
    {
     "data": {
      "image/png": "[encoded data removed]",
      "text/plain": [
       "<Figure size 432x288 with 1 Axes>"
      ]
     },
     "metadata": {
      "needs_background": "light"
     },
     "output_type": "display_data"
    }
   ],
   "source": [
    "cars[cars['drives_right'] == True]['cars_per_cap'].hist(alpha = 0.7, bins = 20)\n",
    "cars[cars['drives_right'] == False]['cars_per_cap'].hist(alpha = 0.7, bins = 20)\n",
    "plt.legend(['manejan a la derecha', 'manejan a la izquierda'])\n",
    "plt.show()"
   ]
  },
  {
   "cell_type": "markdown",
   "id": "374340cd-ccd5-48f8-b3aa-9125d457005f",
   "metadata": {},
   "source": [
    "## Valores faltantes"
   ]
  },
  {
   "cell_type": "markdown",
   "id": "8c49c923-ef79-4770-bb87-6d71a7463697",
   "metadata": {},
   "source": [
    "La función .isna(), nos devuelve un dataframe de entradas booleanas, que da False si el valor del dataframe no es Na ó NaN, y True en caso contrario."
   ]
  },
  {
   "cell_type": "markdown",
   "id": "371b8ea7-2e27-4c5d-bb80-71c51bac3bc5",
   "metadata": {},
   "source": [
    "Podemos combinar esta función con .any (es decir, dataframe.isna().any()), la cual nos dirá cuales columnas contienen elementos nulos\n",
    "\n",
    "Para eliminar filas con elementos faltantes, usamos dataframe.dropna() , aunque esto no es recomendable en todos los casos\n",
    "\n",
    "Para reemplazar los valores faltantes con algún dato en específico, usamos dataframe.fillna(c), donde c puede tomar cualquier valor, por ejemplo c = 0"
   ]
  }
 ],
 "metadata": {
  "kernelspec": {
   "display_name": "Python 3",
   "language": "python",
   "name": "python3"
  },
  "language_info": {
   "codemirror_mode": {
    "name": "ipython",
    "version": 3
   },
   "file_extension": ".py",
   "mimetype": "text/x-python",
   "name": "python",
   "nbconvert_exporter": "python",
   "pygments_lexer": "ipython3",
   "version": "3.8.8"
  }
 },
 "nbformat": 4,
 "nbformat_minor": 5
}
