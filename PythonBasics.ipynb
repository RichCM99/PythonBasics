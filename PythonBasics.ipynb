{
 "cells": [
  {
   "cell_type": "markdown",
   "id": "d54abcb2-ad4f-433a-9e3a-ab583ae13d9f",
   "metadata": {},
   "source": [
    "Para saber que tipo tiene un objeto, usamos la función type()"
   ]
  },
  {
   "cell_type": "code",
   "execution_count": 1,
   "id": "63fada5d-91a5-4c31-a7c1-32b98f01825a",
   "metadata": {},
   "outputs": [
    {
     "data": {
      "text/plain": [
       "int"
      ]
     },
     "execution_count": 1,
     "metadata": {},
     "output_type": "execute_result"
    }
   ],
   "source": [
    "x = 50 \n",
    "type(x)"
   ]
  },
  {
   "cell_type": "markdown",
   "id": "9cfa0627-e38c-4754-a6da-3d38533a5b51",
   "metadata": {},
   "source": [
    "Para borrar elementos de una lista utilizamos la función del(), tambies funciona para eliminar elementos en un diccionario"
   ]
  },
  {
   "cell_type": "code",
   "execution_count": 4,
   "id": "823e58fc-e7ad-49cb-9d30-bae562d05ebd",
   "metadata": {},
   "outputs": [
    {
     "data": {
      "text/plain": [
       "[1, 3, 4, 5]"
      ]
     },
     "execution_count": 4,
     "metadata": {},
     "output_type": "execute_result"
    }
   ],
   "source": [
    "# ejemplo\n",
    "x = [1,2,3,4,5]\n",
    "# borramos el número 2 de la lista\n",
    "del(x[1])\n",
    "x"
   ]
  },
  {
   "cell_type": "markdown",
   "id": "e9634bb6-cec2-41d4-ba71-1d8f6080d53e",
   "metadata": {},
   "source": [
    "## Métodos en Python"
   ]
  },
  {
   "cell_type": "markdown",
   "id": "394b5628-73c5-4f78-91b3-fa0d2b41945f",
   "metadata": {},
   "source": [
    "Según el tipo del objeto en Python, podemos aplicarles métodos, para encontrar los métodos de cada objeto, usamos \n",
    "help(str)"
   ]
  },
  {
   "cell_type": "code",
   "execution_count": 5,
   "id": "2852266f-63c5-4125-b08a-2e4f92400b60",
   "metadata": {
    "collapsed": true,
    "jupyter": {
     "outputs_hidden": true
    },
    "tags": []
   },
   "outputs": [
    {
     "name": "stdout",
     "output_type": "stream",
     "text": [
      "Help on class int in module builtins:\n",
      "\n",
      "class int(object)\n",
      " |  int([x]) -> integer\n",
      " |  int(x, base=10) -> integer\n",
      " |  \n",
      " |  Convert a number or string to an integer, or return 0 if no arguments\n",
      " |  are given.  If x is a number, return x.__int__().  For floating point\n",
      " |  numbers, this truncates towards zero.\n",
      " |  \n",
      " |  If x is not a number or if base is given, then x must be a string,\n",
      " |  bytes, or bytearray instance representing an integer literal in the\n",
      " |  given base.  The literal can be preceded by '+' or '-' and be surrounded\n",
      " |  by whitespace.  The base defaults to 10.  Valid bases are 0 and 2-36.\n",
      " |  Base 0 means to interpret the base from the string as an integer literal.\n",
      " |  >>> int('0b100', base=0)\n",
      " |  4\n",
      " |  \n",
      " |  Built-in subclasses:\n",
      " |      bool\n",
      " |  \n",
      " |  Methods defined here:\n",
      " |  \n",
      " |  __abs__(self, /)\n",
      " |      abs(self)\n",
      " |  \n",
      " |  __add__(self, value, /)\n",
      " |      Return self+value.\n",
      " |  \n",
      " |  __and__(self, value, /)\n",
      " |      Return self&value.\n",
      " |  \n",
      " |  __bool__(self, /)\n",
      " |      self != 0\n",
      " |  \n",
      " |  __ceil__(...)\n",
      " |      Ceiling of an Integral returns itself.\n",
      " |  \n",
      " |  __divmod__(self, value, /)\n",
      " |      Return divmod(self, value).\n",
      " |  \n",
      " |  __eq__(self, value, /)\n",
      " |      Return self==value.\n",
      " |  \n",
      " |  __float__(self, /)\n",
      " |      float(self)\n",
      " |  \n",
      " |  __floor__(...)\n",
      " |      Flooring an Integral returns itself.\n",
      " |  \n",
      " |  __floordiv__(self, value, /)\n",
      " |      Return self//value.\n",
      " |  \n",
      " |  __format__(self, format_spec, /)\n",
      " |      Default object formatter.\n",
      " |  \n",
      " |  __ge__(self, value, /)\n",
      " |      Return self>=value.\n",
      " |  \n",
      " |  __getattribute__(self, name, /)\n",
      " |      Return getattr(self, name).\n",
      " |  \n",
      " |  __getnewargs__(self, /)\n",
      " |  \n",
      " |  __gt__(self, value, /)\n",
      " |      Return self>value.\n",
      " |  \n",
      " |  __hash__(self, /)\n",
      " |      Return hash(self).\n",
      " |  \n",
      " |  __index__(self, /)\n",
      " |      Return self converted to an integer, if self is suitable for use as an index into a list.\n",
      " |  \n",
      " |  __int__(self, /)\n",
      " |      int(self)\n",
      " |  \n",
      " |  __invert__(self, /)\n",
      " |      ~self\n",
      " |  \n",
      " |  __le__(self, value, /)\n",
      " |      Return self<=value.\n",
      " |  \n",
      " |  __lshift__(self, value, /)\n",
      " |      Return self<<value.\n",
      " |  \n",
      " |  __lt__(self, value, /)\n",
      " |      Return self<value.\n",
      " |  \n",
      " |  __mod__(self, value, /)\n",
      " |      Return self%value.\n",
      " |  \n",
      " |  __mul__(self, value, /)\n",
      " |      Return self*value.\n",
      " |  \n",
      " |  __ne__(self, value, /)\n",
      " |      Return self!=value.\n",
      " |  \n",
      " |  __neg__(self, /)\n",
      " |      -self\n",
      " |  \n",
      " |  __or__(self, value, /)\n",
      " |      Return self|value.\n",
      " |  \n",
      " |  __pos__(self, /)\n",
      " |      +self\n",
      " |  \n",
      " |  __pow__(self, value, mod=None, /)\n",
      " |      Return pow(self, value, mod).\n",
      " |  \n",
      " |  __radd__(self, value, /)\n",
      " |      Return value+self.\n",
      " |  \n",
      " |  __rand__(self, value, /)\n",
      " |      Return value&self.\n",
      " |  \n",
      " |  __rdivmod__(self, value, /)\n",
      " |      Return divmod(value, self).\n",
      " |  \n",
      " |  __repr__(self, /)\n",
      " |      Return repr(self).\n",
      " |  \n",
      " |  __rfloordiv__(self, value, /)\n",
      " |      Return value//self.\n",
      " |  \n",
      " |  __rlshift__(self, value, /)\n",
      " |      Return value<<self.\n",
      " |  \n",
      " |  __rmod__(self, value, /)\n",
      " |      Return value%self.\n",
      " |  \n",
      " |  __rmul__(self, value, /)\n",
      " |      Return value*self.\n",
      " |  \n",
      " |  __ror__(self, value, /)\n",
      " |      Return value|self.\n",
      " |  \n",
      " |  __round__(...)\n",
      " |      Rounding an Integral returns itself.\n",
      " |      Rounding with an ndigits argument also returns an integer.\n",
      " |  \n",
      " |  __rpow__(self, value, mod=None, /)\n",
      " |      Return pow(value, self, mod).\n",
      " |  \n",
      " |  __rrshift__(self, value, /)\n",
      " |      Return value>>self.\n",
      " |  \n",
      " |  __rshift__(self, value, /)\n",
      " |      Return self>>value.\n",
      " |  \n",
      " |  __rsub__(self, value, /)\n",
      " |      Return value-self.\n",
      " |  \n",
      " |  __rtruediv__(self, value, /)\n",
      " |      Return value/self.\n",
      " |  \n",
      " |  __rxor__(self, value, /)\n",
      " |      Return value^self.\n",
      " |  \n",
      " |  __sizeof__(self, /)\n",
      " |      Returns size in memory, in bytes.\n",
      " |  \n",
      " |  __sub__(self, value, /)\n",
      " |      Return self-value.\n",
      " |  \n",
      " |  __truediv__(self, value, /)\n",
      " |      Return self/value.\n",
      " |  \n",
      " |  __trunc__(...)\n",
      " |      Truncating an Integral returns itself.\n",
      " |  \n",
      " |  __xor__(self, value, /)\n",
      " |      Return self^value.\n",
      " |  \n",
      " |  as_integer_ratio(self, /)\n",
      " |      Return integer ratio.\n",
      " |      \n",
      " |      Return a pair of integers, whose ratio is exactly equal to the original int\n",
      " |      and with a positive denominator.\n",
      " |      \n",
      " |      >>> (10).as_integer_ratio()\n",
      " |      (10, 1)\n",
      " |      >>> (-10).as_integer_ratio()\n",
      " |      (-10, 1)\n",
      " |      >>> (0).as_integer_ratio()\n",
      " |      (0, 1)\n",
      " |  \n",
      " |  bit_length(self, /)\n",
      " |      Number of bits necessary to represent self in binary.\n",
      " |      \n",
      " |      >>> bin(37)\n",
      " |      '0b100101'\n",
      " |      >>> (37).bit_length()\n",
      " |      6\n",
      " |  \n",
      " |  conjugate(...)\n",
      " |      Returns self, the complex conjugate of any int.\n",
      " |  \n",
      " |  to_bytes(self, /, length, byteorder, *, signed=False)\n",
      " |      Return an array of bytes representing an integer.\n",
      " |      \n",
      " |      length\n",
      " |        Length of bytes object to use.  An OverflowError is raised if the\n",
      " |        integer is not representable with the given number of bytes.\n",
      " |      byteorder\n",
      " |        The byte order used to represent the integer.  If byteorder is 'big',\n",
      " |        the most significant byte is at the beginning of the byte array.  If\n",
      " |        byteorder is 'little', the most significant byte is at the end of the\n",
      " |        byte array.  To request the native byte order of the host system, use\n",
      " |        `sys.byteorder' as the byte order value.\n",
      " |      signed\n",
      " |        Determines whether two's complement is used to represent the integer.\n",
      " |        If signed is False and a negative integer is given, an OverflowError\n",
      " |        is raised.\n",
      " |  \n",
      " |  ----------------------------------------------------------------------\n",
      " |  Class methods defined here:\n",
      " |  \n",
      " |  from_bytes(bytes, byteorder, *, signed=False) from builtins.type\n",
      " |      Return the integer represented by the given array of bytes.\n",
      " |      \n",
      " |      bytes\n",
      " |        Holds the array of bytes to convert.  The argument must either\n",
      " |        support the buffer protocol or be an iterable object producing bytes.\n",
      " |        Bytes and bytearray are examples of built-in objects that support the\n",
      " |        buffer protocol.\n",
      " |      byteorder\n",
      " |        The byte order used to represent the integer.  If byteorder is 'big',\n",
      " |        the most significant byte is at the beginning of the byte array.  If\n",
      " |        byteorder is 'little', the most significant byte is at the end of the\n",
      " |        byte array.  To request the native byte order of the host system, use\n",
      " |        `sys.byteorder' as the byte order value.\n",
      " |      signed\n",
      " |        Indicates whether two's complement is used to represent the integer.\n",
      " |  \n",
      " |  ----------------------------------------------------------------------\n",
      " |  Static methods defined here:\n",
      " |  \n",
      " |  __new__(*args, **kwargs) from builtins.type\n",
      " |      Create and return a new object.  See help(type) for accurate signature.\n",
      " |  \n",
      " |  ----------------------------------------------------------------------\n",
      " |  Data descriptors defined here:\n",
      " |  \n",
      " |  denominator\n",
      " |      the denominator of a rational number in lowest terms\n",
      " |  \n",
      " |  imag\n",
      " |      the imaginary part of a complex number\n",
      " |  \n",
      " |  numerator\n",
      " |      the numerator of a rational number in lowest terms\n",
      " |  \n",
      " |  real\n",
      " |      the real part of a complex number\n",
      "\n"
     ]
    }
   ],
   "source": [
    "help(int)"
   ]
  },
  {
   "cell_type": "markdown",
   "id": "9be25758-8973-4a0b-b5f5-06ae107799cc",
   "metadata": {},
   "source": [
    "Para poder iterar sobre un diccionario, podemos usar el método items() de la siguiente manera"
   ]
  },
  {
   "cell_type": "code",
   "execution_count": 28,
   "id": "72e13dab-7917-472b-b306-4ab50b1c3003",
   "metadata": {},
   "outputs": [
    {
     "name": "stdout",
     "output_type": "stream",
     "text": [
      "afghanistan -- 30.55\n",
      "albania -- 2.77\n",
      "algeria -- 39.21\n"
     ]
    }
   ],
   "source": [
    "world = { \"afghanistan\":30.55, \n",
    "          \"albania\":2.77,\n",
    "          \"algeria\":39.21 }\n",
    "\n",
    "for key, value in world.items() :\n",
    "    print(key + \" -- \" + str(value))"
   ]
  },
  {
   "cell_type": "markdown",
   "id": "f4b44b12-a58c-4ced-ba61-73c1b8dc03d4",
   "metadata": {},
   "source": [
    "## Libreria Math"
   ]
  },
  {
   "cell_type": "markdown",
   "id": "759cdb55-d75f-47ca-aaa4-8ec983df8625",
   "metadata": {},
   "source": [
    "Con esta libreria podemos obtener funciones de matemáticas así como números irracionales como pi o e.\n",
    "para mas información: https://code.tutsplus.com/es/tutorials/mathematical-modules-in-python-math-and-cmath--cms-26913"
   ]
  },
  {
   "cell_type": "code",
   "execution_count": 8,
   "id": "bf3ac4ba-1cb3-4a30-802c-ec75365707ad",
   "metadata": {},
   "outputs": [
    {
     "name": "stdout",
     "output_type": "stream",
     "text": [
      "0.0\n"
     ]
    }
   ],
   "source": [
    "# cargamos la libreria\n",
    "import math \n",
    "print(math.sin(0))"
   ]
  },
  {
   "cell_type": "markdown",
   "id": "765e6a99-44c7-42a8-9b64-7df8eb696230",
   "metadata": {},
   "source": [
    "## Libreria Numpy"
   ]
  },
  {
   "cell_type": "markdown",
   "id": "fba2f5d5-04f8-4d89-a030-cabc2e39feca",
   "metadata": {},
   "source": [
    "Esta libreria nos permite tratar a las listas como si fueran vectores"
   ]
  },
  {
   "cell_type": "code",
   "execution_count": 23,
   "id": "7b06b719-bb43-4995-9933-ea6430f7a670",
   "metadata": {},
   "outputs": [],
   "source": [
    "import numpy as np"
   ]
  },
  {
   "cell_type": "markdown",
   "id": "9762bd31-f800-460b-86b4-ea3cf0519542",
   "metadata": {},
   "source": [
    "Podemos indexar arreglos en numpy como lo haríamos en una lista normal, sin embargo, podemos indexar mediante booleanos, por ejemplo"
   ]
  },
  {
   "cell_type": "code",
   "execution_count": 4,
   "id": "5c04f497-4f8b-49ab-8500-3a87ff8e2ffd",
   "metadata": {},
   "outputs": [
    {
     "name": "stdout",
     "output_type": "stream",
     "text": [
      "[1 2 3 4]\n"
     ]
    }
   ],
   "source": [
    "x = [1, 2, 3, 4, 5]\n",
    "x = np.array(x)\n",
    "print(x[x<5])"
   ]
  },
  {
   "cell_type": "markdown",
   "id": "19f9f009-55c5-481e-8b2f-935151b443e0",
   "metadata": {},
   "source": [
    "Es importante mencionar que los arreglos en numpy solo pueden ser de un solo tipo, es decir, que los elementos del arreglo deben tener el mismo tipo, en caso de no ser así, numpy le dará sentido a la operación cambiando los tipos de cada objeto en la lista según convenga."
   ]
  },
  {
   "cell_type": "code",
   "execution_count": 8,
   "id": "5022b490-66db-4a5d-9393-7f6aec535966",
   "metadata": {},
   "outputs": [
    {
     "name": "stdout",
     "output_type": "stream",
     "text": [
      "[2 5 7 1]\n"
     ]
    }
   ],
   "source": [
    "y = np.array([1,3,4,True])\n",
    "z = np.array([1,2,3,False])\n",
    "print(y + z)"
   ]
  },
  {
   "cell_type": "markdown",
   "id": "e267da35-80bd-4120-8582-bca43c4ca1ac",
   "metadata": {},
   "source": [
    "Para saber la dimensión de el arreglo, podemos usar la función shape de la siguiente manera"
   ]
  },
  {
   "cell_type": "code",
   "execution_count": 12,
   "id": "d06f3fa0-9ffb-498c-9588-4226ab50109c",
   "metadata": {},
   "outputs": [
    {
     "name": "stdout",
     "output_type": "stream",
     "text": [
      "(4, 2)\n"
     ]
    }
   ],
   "source": [
    "baseball = [[180, 78.4],\n",
    "            [215, 102.7],\n",
    "            [210, 98.5],\n",
    "            [188, 75.2]]\n",
    "baseball = np.array(baseball)\n",
    "print(baseball.shape)\n",
    "# nos indica que el arreglo tiene 4 filas y 2 columnas"
   ]
  },
  {
   "cell_type": "markdown",
   "id": "2c999729-4841-4aa3-9134-39c308901931",
   "metadata": {},
   "source": [
    "Si queremos hacer comparaciones a arreglos en numpy (usar los operadores lógicos como and u or), debemos usar los métodos np.logical_and(), np.logical_or() y np.logical_not()"
   ]
  },
  {
   "cell_type": "code",
   "execution_count": 24,
   "id": "21d171b1-f8e0-4f0a-8a47-382036859040",
   "metadata": {},
   "outputs": [
    {
     "data": {
      "text/plain": [
       "array([ True, False, False, False])"
      ]
     },
     "execution_count": 24,
     "metadata": {},
     "output_type": "execute_result"
    }
   ],
   "source": [
    "my_house = np.array([18.0, 20.0, 10.75, 9.50])\n",
    "your_house = np.array([14.0, 24.0, 14.25, 9.0])\n",
    "np.logical_and(my_house > 13, your_house < 15)"
   ]
  },
  {
   "cell_type": "markdown",
   "id": "b1fe35cb-cbfb-4603-8d9d-bb2f8a061652",
   "metadata": {},
   "source": [
    "De igual manera que antes, podemos usar ese vector de booleanos para indexar en algún vector o arreglo que queramos"
   ]
  },
  {
   "cell_type": "markdown",
   "id": "d78ccfb7-27bc-46ac-a2f6-07e6fff2bf3f",
   "metadata": {},
   "source": [
    "Si queremos aplicar un ciclo for a un arreglo multidimensional, debemos usar la función np.nditter()"
   ]
  },
  {
   "cell_type": "code",
   "execution_count": 32,
   "id": "44d23ec3-31d5-4840-ada3-5d3ff5c7f8e2",
   "metadata": {},
   "outputs": [
    {
     "name": "stdout",
     "output_type": "stream",
     "text": [
      "[[18.   20.   10.75  9.5 ]\n",
      " [14.   24.   14.25  9.  ]] prueba\n",
      "[[18.   20.   10.75  9.5 ]\n",
      " [14.   24.   14.25  9.  ]] prueba\n",
      "[[18.   20.   10.75  9.5 ]\n",
      " [14.   24.   14.25  9.  ]] prueba\n",
      "[[18.   20.   10.75  9.5 ]\n",
      " [14.   24.   14.25  9.  ]] prueba\n",
      "[[18.   20.   10.75  9.5 ]\n",
      " [14.   24.   14.25  9.  ]] prueba\n",
      "[[18.   20.   10.75  9.5 ]\n",
      " [14.   24.   14.25  9.  ]] prueba\n",
      "[[18.   20.   10.75  9.5 ]\n",
      " [14.   24.   14.25  9.  ]] prueba\n",
      "[[18.   20.   10.75  9.5 ]\n",
      " [14.   24.   14.25  9.  ]] prueba\n"
     ]
    }
   ],
   "source": [
    "x = np.array([[18.0, 20.0, 10.75, 9.50], [14.0, 24.0, 14.25, 9.0]])\n",
    "for i in np.nditer(x): \n",
    "    print(str(x) + \" prueba\")"
   ]
  },
  {
   "cell_type": "markdown",
   "id": "511a19b9-2bef-4340-a5c6-44cba4c87f06",
   "metadata": {},
   "source": [
    "Para transponer un arreglos lo hacemos de la siguiente manera, con la función np.transpose()"
   ]
  },
  {
   "cell_type": "code",
   "execution_count": null,
   "id": "e2de1652-0fb7-45ae-a605-1f437d7710b1",
   "metadata": {},
   "outputs": [],
   "source": [
    "# np_aw_t = np.transpose(np_aw)"
   ]
  },
  {
   "cell_type": "markdown",
   "id": "5b67481a-66b0-496d-a093-7e49e69cb4c9",
   "metadata": {},
   "source": [
    "## Librería Matplotlib"
   ]
  },
  {
   "cell_type": "code",
   "execution_count": 2,
   "id": "135244e2-1d2f-4441-b877-bb7302b26c33",
   "metadata": {},
   "outputs": [],
   "source": [
    "import matplotlib.pyplot as plt"
   ]
  },
  {
   "cell_type": "markdown",
   "id": "5bc817f5-9fdb-4fb2-b617-664aff7fef33",
   "metadata": {},
   "source": [
    "Para poder imprimir se usa el método .plot y para mostrar el gráfico se utiliza .show"
   ]
  },
  {
   "cell_type": "code",
   "execution_count": 15,
   "id": "8bf7f34f-03bc-40fd-9521-b948e6500b95",
   "metadata": {},
   "outputs": [
    {
     "data": {
      "image/png": "[encoded data removed]",
      "text/plain": [
       "<Figure size 432x288 with 1 Axes>"
      ]
     },
     "metadata": {
      "needs_background": "light"
     },
     "output_type": "display_data"
    }
   ],
   "source": [
    "x = [\"a\", \"b\", \"c\", \"d\", \"e\"]\n",
    "y = [1, 2, 3, 4, 5]\n",
    "# si no indicamos nada, nos hará una grafica de lineas común\n",
    "plt.plot(x,y)\n",
    "plt.show()"
   ]
  },
  {
   "cell_type": "markdown",
   "id": "59a41b17-0e23-4112-bcd8-3a138ca9b500",
   "metadata": {},
   "source": [
    "Cuando queremos evaluar si existe una correlación entre dos variables, por poner un ejemplo, el gráfico de dispersión (ó de puntos) es una buena opción y lo creamos de la siguiente manera"
   ]
  },
  {
   "cell_type": "code",
   "execution_count": 16,
   "id": "7a037715-2ad0-44ad-b8eb-71d37544b588",
   "metadata": {},
   "outputs": [
    {
     "data": {
      "image/png": "[encoded data removed]",
      "text/plain": [
       "<Figure size 432x288 with 1 Axes>"
      ]
     },
     "metadata": {
      "needs_background": "light"
     },
     "output_type": "display_data"
    }
   ],
   "source": [
    "plt.scatter(x,y)\n",
    "plt.show()"
   ]
  },
  {
   "cell_type": "markdown",
   "id": "3f0a7ac2-fa15-4729-9de0-5b2ba84adcf9",
   "metadata": {},
   "source": [
    "En caso de ser muchos datos, podemos cambiar la escala de los ejes, por ejemplo, podemos cambiar la escala del eje x a logaritmica"
   ]
  },
  {
   "cell_type": "code",
   "execution_count": 17,
   "id": "cda78e74-f815-4c1c-a923-08571906387b",
   "metadata": {},
   "outputs": [
    {
     "data": {
      "image/png": "[encoded data removed]",
      "text/plain": [
       "<Figure size 432x288 with 1 Axes>"
      ]
     },
     "metadata": {
      "needs_background": "light"
     },
     "output_type": "display_data"
    }
   ],
   "source": [
    "plt.xscale('log')\n",
    "plt.show()"
   ]
  },
  {
   "cell_type": "markdown",
   "id": "2ccd7ee2-72b3-4761-925d-b6a521dcd7a9",
   "metadata": {},
   "source": [
    "También podemos crear histogramas, usando .hist,  en este método, el segundo argumento nos indica en cuantas partes dividiremos el eje x para el conteo"
   ]
  },
  {
   "cell_type": "code",
   "execution_count": 26,
   "id": "a134f125-4135-40bc-ba2a-a32548a07fd2",
   "metadata": {},
   "outputs": [
    {
     "data": {
      "image/png": "[encoded data removed]",
      "text/plain": [
       "<Figure size 432x288 with 1 Axes>"
      ]
     },
     "metadata": {
      "needs_background": "light"
     },
     "output_type": "display_data"
    }
   ],
   "source": [
    "lista = [1,2,3,4,4,5,2,1,1,1,1,6,7,8,9,3,5,2,2,6,7,8,9,0] \n",
    "plt.hist(lista, bins = 20)\n",
    "plt.show()"
   ]
  },
  {
   "cell_type": "markdown",
   "id": "71c5bd58-1ff4-49a0-a79f-21185dc3abf2",
   "metadata": {},
   "source": [
    "Para limpiar todo lo que hemos hecho con los gráficos, usamos el método .clf(), esto por si queremos imprimir otra gráfica o histograma, no salgan encimados\n"
   ]
  },
  {
   "cell_type": "markdown",
   "id": "7af7ade5-806b-4623-bbe2-561b55309cad",
   "metadata": {},
   "source": [
    "Para personalizar nuestros gráficos, podemos hacer lo siguiente"
   ]
  },
  {
   "cell_type": "code",
   "execution_count": 28,
   "id": "f71d617d-34f4-4011-b715-4c4005d5cf4d",
   "metadata": {},
   "outputs": [
    {
     "data": {
      "image/png": "[encoded data removed]",
      "text/plain": [
       "<Figure size 432x288 with 1 Axes>"
      ]
     },
     "metadata": {
      "needs_background": "light"
     },
     "output_type": "display_data"
    }
   ],
   "source": [
    "lista = [1,2,3,4,4,5,2,1,1,1,1,6,7,8,9,3,5,2,2,6,7,8,9,0] \n",
    "plt.hist(lista, bins = 15)\n",
    "plt.xlabel(\"numeros aleatorios\")\n",
    "plt.ylabel(\"repeticiones\")\n",
    "plt.title(\"experimento\")\n",
    "plt.show()\n",
    "\n",
    "# hemos agregado etiquetas a los ejes y un titulo"
   ]
  },
  {
   "cell_type": "markdown",
   "id": "5f2c1a05-013f-4e28-b8af-5134b1ea7db5",
   "metadata": {},
   "source": [
    "Supongamos que queremos que el eje x aparezca con otros valores, ya sean palabras u otros números para tener mejor presentación de la gráfica, para esto, hacemos lo siguiente"
   ]
  },
  {
   "cell_type": "code",
   "execution_count": 7,
   "id": "b1bdb53b-b0c9-40ac-b7ea-16f2e62e3de4",
   "metadata": {},
   "outputs": [
    {
     "data": {
      "image/png": "[encoded data removed]",
      "text/plain": [
       "<Figure size 432x288 with 1 Axes>"
      ]
     },
     "metadata": {
      "needs_background": "light"
     },
     "output_type": "display_data"
    }
   ],
   "source": [
    "x = [1, 2, 3, 4, 5]\n",
    "y = [1, 2, 3, 4, 5]\n",
    "\n",
    "tick_val = [1, 2, 3, 4, 5]\n",
    "tick_lab = ['1k', '2k', '3k', '4k', '5k']\n",
    "plt.scatter(x,y)\n",
    "plt.xticks(tick_val, tick_lab)\n",
    "plt.show()"
   ]
  },
  {
   "cell_type": "markdown",
   "id": "33aaa3d8-a913-4466-9c27-1c2f2f6c4aca",
   "metadata": {},
   "source": [
    "Si queremos poner una cuadrícula usamos plt.grid(True), el parámetro alpha hace que los valores del eje x se velvan transparentes, lo menos es 0"
   ]
  },
  {
   "cell_type": "code",
   "execution_count": 11,
   "id": "ee7204f3-56c5-4b05-bf93-37ea64c6602c",
   "metadata": {},
   "outputs": [
    {
     "data": {
      "image/png": "[encoded data removed]",
      "text/plain": [
       "<Figure size 432x288 with 1 Axes>"
      ]
     },
     "metadata": {
      "needs_background": "light"
     },
     "output_type": "display_data"
    }
   ],
   "source": [
    "x = [1, 2, 3, 4, 5]\n",
    "y = [1, 2, 3, 4, 5]\n",
    "\n",
    "tick_val = [1, 2, 3, 4, 5]\n",
    "tick_lab = ['1k', '2k', '3k', '4k', '5k']\n",
    "plt.scatter(x,y)\n",
    "plt.xticks(tick_val, tick_lab, alpha = 0.8)\n",
    "plt.grid(True)\n",
    "plt.show()"
   ]
  },
  {
   "cell_type": "markdown",
   "id": "03747167-103f-4e0b-8dfb-57bea564399b",
   "metadata": {},
   "source": [
    "## Librería pandas"
   ]
  },
  {
   "cell_type": "code",
   "execution_count": 1,
   "id": "bcd56714-7b8d-4a3b-be1b-cfbce2d0a7cc",
   "metadata": {},
   "outputs": [],
   "source": [
    "import pandas as pd"
   ]
  },
  {
   "cell_type": "markdown",
   "id": "5c295ba9-673b-4a78-965e-4982bf77f12f",
   "metadata": {},
   "source": [
    "Para tener los datos a modo de una tabla, podemos transformar los datos de un diccionario a modo de data frame de la siguiente manera"
   ]
  },
  {
   "cell_type": "code",
   "execution_count": 19,
   "id": "b62cf7ad-10ed-4c9d-ab40-38a8d66c639e",
   "metadata": {},
   "outputs": [
    {
     "data": {
      "text/html": [
       "<div>\n",
       "<style scoped>\n",
       "    .dataframe tbody tr th:only-of-type {\n",
       "        vertical-align: middle;\n",
       "    }\n",
       "\n",
       "    .dataframe tbody tr th {\n",
       "        vertical-align: top;\n",
       "    }\n",
       "\n",
       "    .dataframe thead th {\n",
       "        text-align: right;\n",
       "    }\n",
       "</style>\n",
       "<table border=\"1\" class=\"dataframe\">\n",
       "  <thead>\n",
       "    <tr style=\"text-align: right;\">\n",
       "      <th></th>\n",
       "      <th>country</th>\n",
       "      <th>drives_right</th>\n",
       "      <th>cars_per_cap</th>\n",
       "    </tr>\n",
       "  </thead>\n",
       "  <tbody>\n",
       "    <tr>\n",
       "      <th>0</th>\n",
       "      <td>United States</td>\n",
       "      <td>True</td>\n",
       "      <td>809</td>\n",
       "    </tr>\n",
       "    <tr>\n",
       "      <th>1</th>\n",
       "      <td>Australia</td>\n",
       "      <td>False</td>\n",
       "      <td>731</td>\n",
       "    </tr>\n",
       "    <tr>\n",
       "      <th>2</th>\n",
       "      <td>Japan</td>\n",
       "      <td>False</td>\n",
       "      <td>588</td>\n",
       "    </tr>\n",
       "    <tr>\n",
       "      <th>3</th>\n",
       "      <td>India</td>\n",
       "      <td>False</td>\n",
       "      <td>18</td>\n",
       "    </tr>\n",
       "    <tr>\n",
       "      <th>4</th>\n",
       "      <td>Russia</td>\n",
       "      <td>True</td>\n",
       "      <td>200</td>\n",
       "    </tr>\n",
       "    <tr>\n",
       "      <th>5</th>\n",
       "      <td>Morocco</td>\n",
       "      <td>True</td>\n",
       "      <td>70</td>\n",
       "    </tr>\n",
       "    <tr>\n",
       "      <th>6</th>\n",
       "      <td>Egypt</td>\n",
       "      <td>True</td>\n",
       "      <td>45</td>\n",
       "    </tr>\n",
       "  </tbody>\n",
       "</table>\n",
       "</div>"
      ],
      "text/plain": [
       "         country  drives_right  cars_per_cap\n",
       "0  United States          True           809\n",
       "1      Australia         False           731\n",
       "2          Japan         False           588\n",
       "3          India         False            18\n",
       "4         Russia          True           200\n",
       "5        Morocco          True            70\n",
       "6          Egypt          True            45"
      ]
     },
     "execution_count": 19,
     "metadata": {},
     "output_type": "execute_result"
    }
   ],
   "source": [
    "names = ['United States', 'Australia', 'Japan', 'India', 'Russia', 'Morocco', 'Egypt']\n",
    "dr =  [True, False, False, False, True, True, True]\n",
    "cpc = [809, 731, 588, 18, 200, 70, 45]\n",
    "cars_dict = { 'country':names, 'drives_right':dr, 'cars_per_cap':cpc }\n",
    "cars = pd.DataFrame(cars_dict)\n",
    "cars"
   ]
  },
  {
   "cell_type": "markdown",
   "id": "294adf44-ac2b-4fbe-bd64-827ab6c12224",
   "metadata": {},
   "source": [
    "Si queremos cambiar los nombres de cada fila (para que no aparezcan los números del 0 al 6), lo podemos hacer de la siguiente manera"
   ]
  },
  {
   "cell_type": "code",
   "execution_count": 17,
   "id": "170742f7-3b5e-4481-a93a-9ae9beea1827",
   "metadata": {},
   "outputs": [
    {
     "data": {
      "text/html": [
       "<div>\n",
       "<style scoped>\n",
       "    .dataframe tbody tr th:only-of-type {\n",
       "        vertical-align: middle;\n",
       "    }\n",
       "\n",
       "    .dataframe tbody tr th {\n",
       "        vertical-align: top;\n",
       "    }\n",
       "\n",
       "    .dataframe thead th {\n",
       "        text-align: right;\n",
       "    }\n",
       "</style>\n",
       "<table border=\"1\" class=\"dataframe\">\n",
       "  <thead>\n",
       "    <tr style=\"text-align: right;\">\n",
       "      <th></th>\n",
       "      <th>country</th>\n",
       "      <th>drives_right</th>\n",
       "      <th>cars_per_cap</th>\n",
       "    </tr>\n",
       "  </thead>\n",
       "  <tbody>\n",
       "    <tr>\n",
       "      <th>US</th>\n",
       "      <td>United States</td>\n",
       "      <td>True</td>\n",
       "      <td>809</td>\n",
       "    </tr>\n",
       "    <tr>\n",
       "      <th>AUS</th>\n",
       "      <td>Australia</td>\n",
       "      <td>False</td>\n",
       "      <td>731</td>\n",
       "    </tr>\n",
       "    <tr>\n",
       "      <th>JPN</th>\n",
       "      <td>Japan</td>\n",
       "      <td>False</td>\n",
       "      <td>588</td>\n",
       "    </tr>\n",
       "    <tr>\n",
       "      <th>IN</th>\n",
       "      <td>India</td>\n",
       "      <td>False</td>\n",
       "      <td>18</td>\n",
       "    </tr>\n",
       "    <tr>\n",
       "      <th>RU</th>\n",
       "      <td>Russia</td>\n",
       "      <td>True</td>\n",
       "      <td>200</td>\n",
       "    </tr>\n",
       "    <tr>\n",
       "      <th>MOR</th>\n",
       "      <td>Morocco</td>\n",
       "      <td>True</td>\n",
       "      <td>70</td>\n",
       "    </tr>\n",
       "    <tr>\n",
       "      <th>EG</th>\n",
       "      <td>Egypt</td>\n",
       "      <td>True</td>\n",
       "      <td>45</td>\n",
       "    </tr>\n",
       "  </tbody>\n",
       "</table>\n",
       "</div>"
      ],
      "text/plain": [
       "           country  drives_right  cars_per_cap\n",
       "US   United States          True           809\n",
       "AUS      Australia         False           731\n",
       "JPN          Japan         False           588\n",
       "IN           India         False            18\n",
       "RU          Russia          True           200\n",
       "MOR        Morocco          True            70\n",
       "EG           Egypt          True            45"
      ]
     },
     "execution_count": 17,
     "metadata": {},
     "output_type": "execute_result"
    }
   ],
   "source": [
    "row_labels = ['US', 'AUS', 'JPN', 'IN', 'RU', 'MOR', 'EG']\n",
    "cars.index = row_labels\n",
    "cars"
   ]
  },
  {
   "cell_type": "markdown",
   "id": "49728abc-76ff-47bd-9ba9-9fac9ab01a59",
   "metadata": {},
   "source": [
    "La librería pandas también nos permite abrir dicumentos tipo csv (además el tipo del archivo queda a modo de data frame) de la siguiente manera"
   ]
  },
  {
   "cell_type": "code",
   "execution_count": 4,
   "id": "04a037b4-9437-4065-9933-74a604e74cb5",
   "metadata": {},
   "outputs": [],
   "source": [
    "# lo pondremos comentado pues no tenemos archivos\n",
    "\n",
    "# cars = pd.read_csv('cars.csv')"
   ]
  },
  {
   "cell_type": "markdown",
   "id": "282cc34d-8777-464b-b2b1-c6fc75294dbf",
   "metadata": {},
   "source": [
    "Si nuestro csv contiene una columna con los indices (en este caso supongamos que la primera columna contiene los índices), podemos hacerlo de la siguiente manera"
   ]
  },
  {
   "cell_type": "code",
   "execution_count": 5,
   "id": "ef27e14b-61f9-4c39-87c8-c199c672c6f5",
   "metadata": {},
   "outputs": [],
   "source": [
    "# cars = pd.read_csv('cars.csv', index_col = 0)\n",
    "# con esto indicamos que las indices de la fila deberían ser los que se encuentran en la primera fila"
   ]
  },
  {
   "cell_type": "markdown",
   "id": "1a7576e7-bd12-4539-af4c-0bbf630272d4",
   "metadata": {},
   "source": [
    "Para indexar en un data frame, se hace de igual manera que en R, aunque también se pueden usar las funciones loc y iloc"
   ]
  },
  {
   "cell_type": "code",
   "execution_count": 18,
   "id": "8348b324-afa7-43ad-8033-4b0fdcbd9e9d",
   "metadata": {},
   "outputs": [
    {
     "data": {
      "text/html": [
       "<div>\n",
       "<style scoped>\n",
       "    .dataframe tbody tr th:only-of-type {\n",
       "        vertical-align: middle;\n",
       "    }\n",
       "\n",
       "    .dataframe tbody tr th {\n",
       "        vertical-align: top;\n",
       "    }\n",
       "\n",
       "    .dataframe thead th {\n",
       "        text-align: right;\n",
       "    }\n",
       "</style>\n",
       "<table border=\"1\" class=\"dataframe\">\n",
       "  <thead>\n",
       "    <tr style=\"text-align: right;\">\n",
       "      <th></th>\n",
       "      <th>country</th>\n",
       "      <th>drives_right</th>\n",
       "      <th>cars_per_cap</th>\n",
       "    </tr>\n",
       "  </thead>\n",
       "  <tbody>\n",
       "    <tr>\n",
       "      <th>US</th>\n",
       "      <td>United States</td>\n",
       "      <td>True</td>\n",
       "      <td>809</td>\n",
       "    </tr>\n",
       "    <tr>\n",
       "      <th>AUS</th>\n",
       "      <td>Australia</td>\n",
       "      <td>False</td>\n",
       "      <td>731</td>\n",
       "    </tr>\n",
       "    <tr>\n",
       "      <th>JPN</th>\n",
       "      <td>Japan</td>\n",
       "      <td>False</td>\n",
       "      <td>588</td>\n",
       "    </tr>\n",
       "  </tbody>\n",
       "</table>\n",
       "</div>"
      ],
      "text/plain": [
       "           country  drives_right  cars_per_cap\n",
       "US   United States          True           809\n",
       "AUS      Australia         False           731\n",
       "JPN          Japan         False           588"
      ]
     },
     "execution_count": 18,
     "metadata": {},
     "output_type": "execute_result"
    }
   ],
   "source": [
    "# para obtener las primeras 3 filas\n",
    "\n",
    "cars[0:3]"
   ]
  },
  {
   "cell_type": "markdown",
   "id": "9b4501be-fe09-4b0b-97da-f9ed840ce4ce",
   "metadata": {},
   "source": [
    "La función loc nos ayuda a indexar según la etiqueta de cada fila, en este caso, las etiquetas son las que se encuentran en la lista row_labels"
   ]
  },
  {
   "cell_type": "code",
   "execution_count": 16,
   "id": "077a7dfe-ec9a-4146-91a2-d24e563dbf5b",
   "metadata": {},
   "outputs": [
    {
     "data": {
      "text/html": [
       "<div>\n",
       "<style scoped>\n",
       "    .dataframe tbody tr th:only-of-type {\n",
       "        vertical-align: middle;\n",
       "    }\n",
       "\n",
       "    .dataframe tbody tr th {\n",
       "        vertical-align: top;\n",
       "    }\n",
       "\n",
       "    .dataframe thead th {\n",
       "        text-align: right;\n",
       "    }\n",
       "</style>\n",
       "<table border=\"1\" class=\"dataframe\">\n",
       "  <thead>\n",
       "    <tr style=\"text-align: right;\">\n",
       "      <th></th>\n",
       "      <th>country</th>\n",
       "      <th>drives_right</th>\n",
       "      <th>cars_per_cap</th>\n",
       "    </tr>\n",
       "  </thead>\n",
       "  <tbody>\n",
       "    <tr>\n",
       "      <th>AUS</th>\n",
       "      <td>Australia</td>\n",
       "      <td>False</td>\n",
       "      <td>731</td>\n",
       "    </tr>\n",
       "    <tr>\n",
       "      <th>EG</th>\n",
       "      <td>Egypt</td>\n",
       "      <td>True</td>\n",
       "      <td>45</td>\n",
       "    </tr>\n",
       "  </tbody>\n",
       "</table>\n",
       "</div>"
      ],
      "text/plain": [
       "       country  drives_right  cars_per_cap\n",
       "AUS  Australia         False           731\n",
       "EG       Egypt          True            45"
      ]
     },
     "execution_count": 16,
     "metadata": {},
     "output_type": "execute_result"
    }
   ],
   "source": [
    "cars.loc[['AUS', 'EG']]\n",
    "\n",
    "# en caso de solo indexar usando un solo corchete, estaríamos cambiando el tipo a una serie"
   ]
  },
  {
   "cell_type": "code",
   "execution_count": 15,
   "id": "86fb8bf5-660f-4113-aed1-88356ca47c4a",
   "metadata": {},
   "outputs": [
    {
     "data": {
      "text/html": [
       "<div>\n",
       "<style scoped>\n",
       "    .dataframe tbody tr th:only-of-type {\n",
       "        vertical-align: middle;\n",
       "    }\n",
       "\n",
       "    .dataframe tbody tr th {\n",
       "        vertical-align: top;\n",
       "    }\n",
       "\n",
       "    .dataframe thead th {\n",
       "        text-align: right;\n",
       "    }\n",
       "</style>\n",
       "<table border=\"1\" class=\"dataframe\">\n",
       "  <thead>\n",
       "    <tr style=\"text-align: right;\">\n",
       "      <th></th>\n",
       "      <th>country</th>\n",
       "      <th>drives_right</th>\n",
       "      <th>cars_per_cap</th>\n",
       "    </tr>\n",
       "  </thead>\n",
       "  <tbody>\n",
       "    <tr>\n",
       "      <th>AUS</th>\n",
       "      <td>Australia</td>\n",
       "      <td>False</td>\n",
       "      <td>731</td>\n",
       "    </tr>\n",
       "    <tr>\n",
       "      <th>IN</th>\n",
       "      <td>India</td>\n",
       "      <td>False</td>\n",
       "      <td>18</td>\n",
       "    </tr>\n",
       "  </tbody>\n",
       "</table>\n",
       "</div>"
      ],
      "text/plain": [
       "       country  drives_right  cars_per_cap\n",
       "AUS  Australia         False           731\n",
       "IN       India         False            18"
      ]
     },
     "execution_count": 15,
     "metadata": {},
     "output_type": "execute_result"
    }
   ],
   "source": [
    "cars.iloc[[1,3]]\n",
    "\n",
    "# obtenemos las filas 2 y 4"
   ]
  },
  {
   "cell_type": "markdown",
   "id": "fa3e2d23-7ec6-481c-a040-7f8bd4f6c1d7",
   "metadata": {},
   "source": [
    "También podemos indexar filas y columnas al mismo tiempo, lo podemos hacer de la siguiente manera"
   ]
  },
  {
   "cell_type": "code",
   "execution_count": 12,
   "id": "b5890867-34c4-4bfa-b2c2-5f9cb78a9098",
   "metadata": {},
   "outputs": [
    {
     "data": {
      "text/html": [
       "<div>\n",
       "<style scoped>\n",
       "    .dataframe tbody tr th:only-of-type {\n",
       "        vertical-align: middle;\n",
       "    }\n",
       "\n",
       "    .dataframe tbody tr th {\n",
       "        vertical-align: top;\n",
       "    }\n",
       "\n",
       "    .dataframe thead th {\n",
       "        text-align: right;\n",
       "    }\n",
       "</style>\n",
       "<table border=\"1\" class=\"dataframe\">\n",
       "  <thead>\n",
       "    <tr style=\"text-align: right;\">\n",
       "      <th></th>\n",
       "      <th>cars_per_cap</th>\n",
       "      <th>country</th>\n",
       "    </tr>\n",
       "  </thead>\n",
       "  <tbody>\n",
       "    <tr>\n",
       "      <th>IN</th>\n",
       "      <td>18</td>\n",
       "      <td>India</td>\n",
       "    </tr>\n",
       "    <tr>\n",
       "      <th>RU</th>\n",
       "      <td>200</td>\n",
       "      <td>Russia</td>\n",
       "    </tr>\n",
       "  </tbody>\n",
       "</table>\n",
       "</div>"
      ],
      "text/plain": [
       "    cars_per_cap country\n",
       "IN            18   India\n",
       "RU           200  Russia"
      ]
     },
     "execution_count": 12,
     "metadata": {},
     "output_type": "execute_result"
    }
   ],
   "source": [
    "cars.loc[['IN', 'RU'], ['cars_per_cap', 'country']]"
   ]
  },
  {
   "cell_type": "code",
   "execution_count": 13,
   "id": "796531e6-913c-4f90-9811-8a4b8a9d43a9",
   "metadata": {},
   "outputs": [
    {
     "data": {
      "text/html": [
       "<div>\n",
       "<style scoped>\n",
       "    .dataframe tbody tr th:only-of-type {\n",
       "        vertical-align: middle;\n",
       "    }\n",
       "\n",
       "    .dataframe tbody tr th {\n",
       "        vertical-align: top;\n",
       "    }\n",
       "\n",
       "    .dataframe thead th {\n",
       "        text-align: right;\n",
       "    }\n",
       "</style>\n",
       "<table border=\"1\" class=\"dataframe\">\n",
       "  <thead>\n",
       "    <tr style=\"text-align: right;\">\n",
       "      <th></th>\n",
       "      <th>country</th>\n",
       "      <th>drives_right</th>\n",
       "    </tr>\n",
       "  </thead>\n",
       "  <tbody>\n",
       "    <tr>\n",
       "      <th>IN</th>\n",
       "      <td>India</td>\n",
       "      <td>False</td>\n",
       "    </tr>\n",
       "    <tr>\n",
       "      <th>RU</th>\n",
       "      <td>Russia</td>\n",
       "      <td>True</td>\n",
       "    </tr>\n",
       "  </tbody>\n",
       "</table>\n",
       "</div>"
      ],
      "text/plain": [
       "   country  drives_right\n",
       "IN   India         False\n",
       "RU  Russia          True"
      ]
     },
     "execution_count": 13,
     "metadata": {},
     "output_type": "execute_result"
    }
   ],
   "source": [
    "cars.iloc[[3, 4], [0, 1]]"
   ]
  },
  {
   "cell_type": "markdown",
   "id": "434698b0-21e9-4c37-87fa-69c63655e1f1",
   "metadata": {},
   "source": [
    "También podemos seleccionar solamente columnas, lo hacemos de la siguiente manera"
   ]
  },
  {
   "cell_type": "code",
   "execution_count": 20,
   "id": "baa8bbfc-f7eb-4d3e-aee6-3db5ce336dc7",
   "metadata": {},
   "outputs": [
    {
     "data": {
      "text/html": [
       "<div>\n",
       "<style scoped>\n",
       "    .dataframe tbody tr th:only-of-type {\n",
       "        vertical-align: middle;\n",
       "    }\n",
       "\n",
       "    .dataframe tbody tr th {\n",
       "        vertical-align: top;\n",
       "    }\n",
       "\n",
       "    .dataframe thead th {\n",
       "        text-align: right;\n",
       "    }\n",
       "</style>\n",
       "<table border=\"1\" class=\"dataframe\">\n",
       "  <thead>\n",
       "    <tr style=\"text-align: right;\">\n",
       "      <th></th>\n",
       "      <th>country</th>\n",
       "      <th>drives_right</th>\n",
       "    </tr>\n",
       "  </thead>\n",
       "  <tbody>\n",
       "    <tr>\n",
       "      <th>0</th>\n",
       "      <td>United States</td>\n",
       "      <td>True</td>\n",
       "    </tr>\n",
       "    <tr>\n",
       "      <th>1</th>\n",
       "      <td>Australia</td>\n",
       "      <td>False</td>\n",
       "    </tr>\n",
       "    <tr>\n",
       "      <th>2</th>\n",
       "      <td>Japan</td>\n",
       "      <td>False</td>\n",
       "    </tr>\n",
       "    <tr>\n",
       "      <th>3</th>\n",
       "      <td>India</td>\n",
       "      <td>False</td>\n",
       "    </tr>\n",
       "    <tr>\n",
       "      <th>4</th>\n",
       "      <td>Russia</td>\n",
       "      <td>True</td>\n",
       "    </tr>\n",
       "    <tr>\n",
       "      <th>5</th>\n",
       "      <td>Morocco</td>\n",
       "      <td>True</td>\n",
       "    </tr>\n",
       "    <tr>\n",
       "      <th>6</th>\n",
       "      <td>Egypt</td>\n",
       "      <td>True</td>\n",
       "    </tr>\n",
       "  </tbody>\n",
       "</table>\n",
       "</div>"
      ],
      "text/plain": [
       "         country  drives_right\n",
       "0  United States          True\n",
       "1      Australia         False\n",
       "2          Japan         False\n",
       "3          India         False\n",
       "4         Russia          True\n",
       "5        Morocco          True\n",
       "6          Egypt          True"
      ]
     },
     "execution_count": 20,
     "metadata": {},
     "output_type": "execute_result"
    }
   ],
   "source": [
    "cars.loc[:, ['country','drives_right']]"
   ]
  },
  {
   "cell_type": "code",
   "execution_count": 21,
   "id": "99bc6875-0918-4964-9e18-28b0552d6402",
   "metadata": {},
   "outputs": [
    {
     "data": {
      "text/html": [
       "<div>\n",
       "<style scoped>\n",
       "    .dataframe tbody tr th:only-of-type {\n",
       "        vertical-align: middle;\n",
       "    }\n",
       "\n",
       "    .dataframe tbody tr th {\n",
       "        vertical-align: top;\n",
       "    }\n",
       "\n",
       "    .dataframe thead th {\n",
       "        text-align: right;\n",
       "    }\n",
       "</style>\n",
       "<table border=\"1\" class=\"dataframe\">\n",
       "  <thead>\n",
       "    <tr style=\"text-align: right;\">\n",
       "      <th></th>\n",
       "      <th>drives_right</th>\n",
       "      <th>cars_per_cap</th>\n",
       "    </tr>\n",
       "  </thead>\n",
       "  <tbody>\n",
       "    <tr>\n",
       "      <th>0</th>\n",
       "      <td>True</td>\n",
       "      <td>809</td>\n",
       "    </tr>\n",
       "    <tr>\n",
       "      <th>1</th>\n",
       "      <td>False</td>\n",
       "      <td>731</td>\n",
       "    </tr>\n",
       "    <tr>\n",
       "      <th>2</th>\n",
       "      <td>False</td>\n",
       "      <td>588</td>\n",
       "    </tr>\n",
       "    <tr>\n",
       "      <th>3</th>\n",
       "      <td>False</td>\n",
       "      <td>18</td>\n",
       "    </tr>\n",
       "    <tr>\n",
       "      <th>4</th>\n",
       "      <td>True</td>\n",
       "      <td>200</td>\n",
       "    </tr>\n",
       "    <tr>\n",
       "      <th>5</th>\n",
       "      <td>True</td>\n",
       "      <td>70</td>\n",
       "    </tr>\n",
       "    <tr>\n",
       "      <th>6</th>\n",
       "      <td>True</td>\n",
       "      <td>45</td>\n",
       "    </tr>\n",
       "  </tbody>\n",
       "</table>\n",
       "</div>"
      ],
      "text/plain": [
       "   drives_right  cars_per_cap\n",
       "0          True           809\n",
       "1         False           731\n",
       "2         False           588\n",
       "3         False            18\n",
       "4          True           200\n",
       "5          True            70\n",
       "6          True            45"
      ]
     },
     "execution_count": 21,
     "metadata": {},
     "output_type": "execute_result"
    }
   ],
   "source": [
    "cars.iloc[:, [1, 2]]"
   ]
  },
  {
   "cell_type": "markdown",
   "id": "a419a50f-9489-4fbf-b873-69fc51a088dd",
   "metadata": {},
   "source": [
    "Podemos indexar en el data frame usando booleanos"
   ]
  },
  {
   "cell_type": "code",
   "execution_count": 26,
   "id": "95d34186-c00a-4dff-831e-7440de955619",
   "metadata": {},
   "outputs": [
    {
     "data": {
      "text/html": [
       "<div>\n",
       "<style scoped>\n",
       "    .dataframe tbody tr th:only-of-type {\n",
       "        vertical-align: middle;\n",
       "    }\n",
       "\n",
       "    .dataframe tbody tr th {\n",
       "        vertical-align: top;\n",
       "    }\n",
       "\n",
       "    .dataframe thead th {\n",
       "        text-align: right;\n",
       "    }\n",
       "</style>\n",
       "<table border=\"1\" class=\"dataframe\">\n",
       "  <thead>\n",
       "    <tr style=\"text-align: right;\">\n",
       "      <th></th>\n",
       "      <th>country</th>\n",
       "      <th>drives_right</th>\n",
       "      <th>cars_per_cap</th>\n",
       "    </tr>\n",
       "  </thead>\n",
       "  <tbody>\n",
       "    <tr>\n",
       "      <th>0</th>\n",
       "      <td>United States</td>\n",
       "      <td>True</td>\n",
       "      <td>809</td>\n",
       "    </tr>\n",
       "    <tr>\n",
       "      <th>1</th>\n",
       "      <td>Australia</td>\n",
       "      <td>False</td>\n",
       "      <td>731</td>\n",
       "    </tr>\n",
       "    <tr>\n",
       "      <th>2</th>\n",
       "      <td>Japan</td>\n",
       "      <td>False</td>\n",
       "      <td>588</td>\n",
       "    </tr>\n",
       "  </tbody>\n",
       "</table>\n",
       "</div>"
      ],
      "text/plain": [
       "         country  drives_right  cars_per_cap\n",
       "0  United States          True           809\n",
       "1      Australia         False           731\n",
       "2          Japan         False           588"
      ]
     },
     "execution_count": 26,
     "metadata": {},
     "output_type": "execute_result"
    }
   ],
   "source": [
    "cpc = cars['cars_per_cap']\n",
    "many_cars = cpc > 500\n",
    "car_maniac = cars[many_cars]\n",
    "car_maniac\n",
    "\n",
    "# en este ejemplo filtramos las filas que solo tienen cars_per_cap mayor a 500"
   ]
  },
  {
   "cell_type": "markdown",
   "id": "7185fd97-3ed1-4f8e-9761-73c79f1a1b6e",
   "metadata": {},
   "source": [
    "También podemos usar los operadores np.logical_and(), np.logical_or() y np.logical_not()"
   ]
  },
  {
   "cell_type": "code",
   "execution_count": 27,
   "id": "55757bcb-acae-432b-a775-f05882c109b9",
   "metadata": {},
   "outputs": [
    {
     "data": {
      "text/html": [
       "<div>\n",
       "<style scoped>\n",
       "    .dataframe tbody tr th:only-of-type {\n",
       "        vertical-align: middle;\n",
       "    }\n",
       "\n",
       "    .dataframe tbody tr th {\n",
       "        vertical-align: top;\n",
       "    }\n",
       "\n",
       "    .dataframe thead th {\n",
       "        text-align: right;\n",
       "    }\n",
       "</style>\n",
       "<table border=\"1\" class=\"dataframe\">\n",
       "  <thead>\n",
       "    <tr style=\"text-align: right;\">\n",
       "      <th></th>\n",
       "      <th>country</th>\n",
       "      <th>drives_right</th>\n",
       "      <th>cars_per_cap</th>\n",
       "    </tr>\n",
       "  </thead>\n",
       "  <tbody>\n",
       "    <tr>\n",
       "      <th>3</th>\n",
       "      <td>India</td>\n",
       "      <td>False</td>\n",
       "      <td>18</td>\n",
       "    </tr>\n",
       "    <tr>\n",
       "      <th>5</th>\n",
       "      <td>Morocco</td>\n",
       "      <td>True</td>\n",
       "      <td>70</td>\n",
       "    </tr>\n",
       "    <tr>\n",
       "      <th>6</th>\n",
       "      <td>Egypt</td>\n",
       "      <td>True</td>\n",
       "      <td>45</td>\n",
       "    </tr>\n",
       "  </tbody>\n",
       "</table>\n",
       "</div>"
      ],
      "text/plain": [
       "   country  drives_right  cars_per_cap\n",
       "3    India         False            18\n",
       "5  Morocco          True            70\n",
       "6    Egypt          True            45"
      ]
     },
     "execution_count": 27,
     "metadata": {},
     "output_type": "execute_result"
    }
   ],
   "source": [
    "# bucaremos los valores de cars per cap que esten entre 10 y 80 \n",
    "cpc = cars['cars_per_cap']\n",
    "between = np.logical_and(cpc > 10, cpc < 80)\n",
    "medium = cars[between]\n",
    "medium"
   ]
  },
  {
   "cell_type": "markdown",
   "id": "0badeb2d-7fa9-46de-b291-6efa2a4cd594",
   "metadata": {},
   "source": [
    "Podemos iterar en un data frame usando el método iterrows() de la siguiente manera.\n",
    "También podemos indexar la serie commo lo hemos venido haciendo"
   ]
  },
  {
   "cell_type": "code",
   "execution_count": 34,
   "id": "33111c8d-a3e8-4dc5-b5ba-3aa978b44cb3",
   "metadata": {
    "collapsed": true,
    "jupyter": {
     "outputs_hidden": true
    },
    "tags": []
   },
   "outputs": [
    {
     "name": "stdout",
     "output_type": "stream",
     "text": [
      "0\n",
      "country         United States\n",
      "drives_right             True\n",
      "cars_per_cap              809\n",
      "Name: 0, dtype: object\n",
      "1\n",
      "country         Australia\n",
      "drives_right        False\n",
      "cars_per_cap          731\n",
      "Name: 1, dtype: object\n",
      "2\n",
      "country         Japan\n",
      "drives_right    False\n",
      "cars_per_cap      588\n",
      "Name: 2, dtype: object\n",
      "3\n",
      "country         India\n",
      "drives_right    False\n",
      "cars_per_cap       18\n",
      "Name: 3, dtype: object\n",
      "4\n",
      "country         Russia\n",
      "drives_right      True\n",
      "cars_per_cap       200\n",
      "Name: 4, dtype: object\n",
      "5\n",
      "country         Morocco\n",
      "drives_right       True\n",
      "cars_per_cap         70\n",
      "Name: 5, dtype: object\n",
      "6\n",
      "country         Egypt\n",
      "drives_right     True\n",
      "cars_per_cap       45\n",
      "Name: 6, dtype: object\n"
     ]
    }
   ],
   "source": [
    "for lab, row in cars.iterrows():\n",
    "    print(lab); print(row)\n",
    "# en este caso, el tipo de la fila es una serie, de igual manera la podemos indexar como lo hemos hecho"
   ]
  },
  {
   "cell_type": "code",
   "execution_count": 35,
   "id": "1b7cdadd-9763-40ca-b37a-965303637fb1",
   "metadata": {},
   "outputs": [
    {
     "name": "stdout",
     "output_type": "stream",
     "text": [
      "United States: 809\n",
      "Australia: 731\n",
      "Japan: 588\n",
      "India: 18\n",
      "Russia: 200\n",
      "Morocco: 70\n",
      "Egypt: 45\n"
     ]
    }
   ],
   "source": [
    "for lab, row in cars.iterrows() :\n",
    "    print(row['country'] + \": \" + str(row['cars_per_cap']))"
   ]
  },
  {
   "cell_type": "markdown",
   "id": "0c8f6b48-a060-42aa-8979-63040b2d8a49",
   "metadata": {},
   "source": [
    "Una forma complicada de añadir/editar una columna al data frame es de la siguiente manera"
   ]
  },
  {
   "cell_type": "code",
   "execution_count": 37,
   "id": "8e2c3b72-8215-4925-8858-2cc6cc5d95c0",
   "metadata": {},
   "outputs": [
    {
     "data": {
      "text/html": [
       "<div>\n",
       "<style scoped>\n",
       "    .dataframe tbody tr th:only-of-type {\n",
       "        vertical-align: middle;\n",
       "    }\n",
       "\n",
       "    .dataframe tbody tr th {\n",
       "        vertical-align: top;\n",
       "    }\n",
       "\n",
       "    .dataframe thead th {\n",
       "        text-align: right;\n",
       "    }\n",
       "</style>\n",
       "<table border=\"1\" class=\"dataframe\">\n",
       "  <thead>\n",
       "    <tr style=\"text-align: right;\">\n",
       "      <th></th>\n",
       "      <th>country</th>\n",
       "      <th>drives_right</th>\n",
       "      <th>cars_per_cap</th>\n",
       "    </tr>\n",
       "  </thead>\n",
       "  <tbody>\n",
       "    <tr>\n",
       "      <th>0</th>\n",
       "      <td>UNITED STATES</td>\n",
       "      <td>True</td>\n",
       "      <td>809</td>\n",
       "    </tr>\n",
       "    <tr>\n",
       "      <th>1</th>\n",
       "      <td>AUSTRALIA</td>\n",
       "      <td>False</td>\n",
       "      <td>731</td>\n",
       "    </tr>\n",
       "    <tr>\n",
       "      <th>2</th>\n",
       "      <td>JAPAN</td>\n",
       "      <td>False</td>\n",
       "      <td>588</td>\n",
       "    </tr>\n",
       "    <tr>\n",
       "      <th>3</th>\n",
       "      <td>INDIA</td>\n",
       "      <td>False</td>\n",
       "      <td>18</td>\n",
       "    </tr>\n",
       "    <tr>\n",
       "      <th>4</th>\n",
       "      <td>RUSSIA</td>\n",
       "      <td>True</td>\n",
       "      <td>200</td>\n",
       "    </tr>\n",
       "    <tr>\n",
       "      <th>5</th>\n",
       "      <td>MOROCCO</td>\n",
       "      <td>True</td>\n",
       "      <td>70</td>\n",
       "    </tr>\n",
       "    <tr>\n",
       "      <th>6</th>\n",
       "      <td>EGYPT</td>\n",
       "      <td>True</td>\n",
       "      <td>45</td>\n",
       "    </tr>\n",
       "  </tbody>\n",
       "</table>\n",
       "</div>"
      ],
      "text/plain": [
       "         country  drives_right  cars_per_cap\n",
       "0  UNITED STATES          True           809\n",
       "1      AUSTRALIA         False           731\n",
       "2          JAPAN         False           588\n",
       "3          INDIA         False            18\n",
       "4         RUSSIA          True           200\n",
       "5        MOROCCO          True            70\n",
       "6          EGYPT          True            45"
      ]
     },
     "execution_count": 37,
     "metadata": {},
     "output_type": "execute_result"
    }
   ],
   "source": [
    "for lab, row in cars.iterrows():\n",
    "    cars.loc[lab,\"country\"] = row['country'].upper()\n",
    "cars\n",
    "\n",
    "# en este caso, unicamente modificamos la columna con los paises, para que aparecieran en mayúscula"
   ]
  },
  {
   "cell_type": "markdown",
   "id": "3163780f-0cef-47f3-a88a-236754b42613",
   "metadata": {},
   "source": [
    "La forma más fácil de hacer esto es mediante el método apply() de la siguiente manera"
   ]
  },
  {
   "cell_type": "code",
   "execution_count": 40,
   "id": "4a7fef84-d743-41d0-ad6c-b8d03102c20b",
   "metadata": {},
   "outputs": [
    {
     "data": {
      "text/html": [
       "<div>\n",
       "<style scoped>\n",
       "    .dataframe tbody tr th:only-of-type {\n",
       "        vertical-align: middle;\n",
       "    }\n",
       "\n",
       "    .dataframe tbody tr th {\n",
       "        vertical-align: top;\n",
       "    }\n",
       "\n",
       "    .dataframe thead th {\n",
       "        text-align: right;\n",
       "    }\n",
       "</style>\n",
       "<table border=\"1\" class=\"dataframe\">\n",
       "  <thead>\n",
       "    <tr style=\"text-align: right;\">\n",
       "      <th></th>\n",
       "      <th>country</th>\n",
       "      <th>drives_right</th>\n",
       "      <th>cars_per_cap</th>\n",
       "      <th>COUNTRY</th>\n",
       "    </tr>\n",
       "  </thead>\n",
       "  <tbody>\n",
       "    <tr>\n",
       "      <th>0</th>\n",
       "      <td>UNITED STATES</td>\n",
       "      <td>True</td>\n",
       "      <td>809</td>\n",
       "      <td>UNITED STATES</td>\n",
       "    </tr>\n",
       "    <tr>\n",
       "      <th>1</th>\n",
       "      <td>AUSTRALIA</td>\n",
       "      <td>False</td>\n",
       "      <td>731</td>\n",
       "      <td>AUSTRALIA</td>\n",
       "    </tr>\n",
       "    <tr>\n",
       "      <th>2</th>\n",
       "      <td>JAPAN</td>\n",
       "      <td>False</td>\n",
       "      <td>588</td>\n",
       "      <td>JAPAN</td>\n",
       "    </tr>\n",
       "    <tr>\n",
       "      <th>3</th>\n",
       "      <td>INDIA</td>\n",
       "      <td>False</td>\n",
       "      <td>18</td>\n",
       "      <td>INDIA</td>\n",
       "    </tr>\n",
       "    <tr>\n",
       "      <th>4</th>\n",
       "      <td>RUSSIA</td>\n",
       "      <td>True</td>\n",
       "      <td>200</td>\n",
       "      <td>RUSSIA</td>\n",
       "    </tr>\n",
       "    <tr>\n",
       "      <th>5</th>\n",
       "      <td>MOROCCO</td>\n",
       "      <td>True</td>\n",
       "      <td>70</td>\n",
       "      <td>MOROCCO</td>\n",
       "    </tr>\n",
       "    <tr>\n",
       "      <th>6</th>\n",
       "      <td>EGYPT</td>\n",
       "      <td>True</td>\n",
       "      <td>45</td>\n",
       "      <td>EGYPT</td>\n",
       "    </tr>\n",
       "  </tbody>\n",
       "</table>\n",
       "</div>"
      ],
      "text/plain": [
       "         country  drives_right  cars_per_cap        COUNTRY\n",
       "0  UNITED STATES          True           809  UNITED STATES\n",
       "1      AUSTRALIA         False           731      AUSTRALIA\n",
       "2          JAPAN         False           588          JAPAN\n",
       "3          INDIA         False            18          INDIA\n",
       "4         RUSSIA          True           200         RUSSIA\n",
       "5        MOROCCO          True            70        MOROCCO\n",
       "6          EGYPT          True            45          EGYPT"
      ]
     },
     "execution_count": 40,
     "metadata": {},
     "output_type": "execute_result"
    }
   ],
   "source": [
    "cars['COUNTRY'] = cars['country'].apply(str.upper)\n",
    "cars\n",
    "\n",
    "# añadimos una columna con los nombres de los países en mayúscula"
   ]
  },
  {
   "cell_type": "markdown",
   "id": "6e41d7c5-f779-4883-9409-9a021ba4ceb8",
   "metadata": {},
   "source": [
    "## Números (pseudo)aleatorios"
   ]
  },
  {
   "cell_type": "markdown",
   "id": "cbd7a0fe-4aa2-4dd3-bedc-6b07d0ab1759",
   "metadata": {},
   "source": [
    "Para fijar la semilla, lo hacemos de la siguiente manera"
   ]
  },
  {
   "cell_type": "code",
   "execution_count": 41,
   "id": "5aaef9c2-b4cc-48e9-8e40-94a2ef11121c",
   "metadata": {},
   "outputs": [],
   "source": [
    "np.random.seed(123)"
   ]
  },
  {
   "cell_type": "markdown",
   "id": "fcccf550-c963-4eac-8793-ed1fd788ae98",
   "metadata": {},
   "source": [
    "Para generar el número pseudoaleatorio lo hacemos de la siguiente manera"
   ]
  },
  {
   "cell_type": "code",
   "execution_count": 43,
   "id": "7e8699aa-0b94-4f88-83f3-c0822eef4ab7",
   "metadata": {},
   "outputs": [
    {
     "data": {
      "text/plain": [
       "0.28613933495037946"
      ]
     },
     "execution_count": 43,
     "metadata": {},
     "output_type": "execute_result"
    }
   ],
   "source": [
    "np.random.rand()\n",
    "\n",
    "# si no especificamos un argumento, nos dará un número aleatorio entre 0 y 1"
   ]
  },
  {
   "cell_type": "markdown",
   "id": "e74eee11-485d-4e1f-8d5a-2cacfc8fe0a7",
   "metadata": {},
   "source": [
    "Para simular números aleatorios enteros lo hacemos de la siguiente manera"
   ]
  },
  {
   "cell_type": "code",
   "execution_count": 45,
   "id": "d4a3be79-a128-4fff-9302-2d952be2d6ca",
   "metadata": {},
   "outputs": [
    {
     "data": {
      "text/plain": [
       "6"
      ]
     },
     "execution_count": 45,
     "metadata": {},
     "output_type": "execute_result"
    }
   ],
   "source": [
    "np.random.randint(4, 8)\n",
    "\n",
    "# genera un número aleatorio entero entre 4 y 8"
   ]
  },
  {
   "cell_type": "code",
   "execution_count": null,
   "id": "3e3d4c4f-7de0-435a-90c5-1d40e84d8a1d",
   "metadata": {},
   "outputs": [],
   "source": []
  }
 ],
 "metadata": {
  "kernelspec": {
   "display_name": "Python 3",
   "language": "python",
   "name": "python3"
  },
  "language_info": {
   "codemirror_mode": {
    "name": "ipython",
    "version": 3
   },
   "file_extension": ".py",
   "mimetype": "text/x-python",
   "name": "python",
   "nbconvert_exporter": "python",
   "pygments_lexer": "ipython3",
   "version": "3.8.8"
  }
 },
 "nbformat": 4,
 "nbformat_minor": 5
}
