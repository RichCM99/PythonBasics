{
 "cells": [
  {
   "cell_type": "markdown",
   "id": "61717153-c227-4565-b09b-6169d2164db5",
   "metadata": {},
   "source": [
    "# Importando datos en Python"
   ]
  },
  {
   "cell_type": "code",
   "execution_count": 5,
   "id": "9657a8d0-b2fd-466b-9079-cd7bd10a8214",
   "metadata": {},
   "outputs": [],
   "source": [
    "import numpy as np\n",
    "import pandas as pd\n",
    "import matplotlib.pyplot as plt"
   ]
  },
  {
   "cell_type": "markdown",
   "id": "33413016-472f-4709-bf96-db6021204acf",
   "metadata": {},
   "source": [
    "Para abrir un documento .txt, podemos usar la función open(), donde ponemos el nombre del texto entre comillas y como segundo argumento, especificamos 'r' para leer el archivo y 'w' para escribir en el."
   ]
  },
  {
   "cell_type": "code",
   "execution_count": 2,
   "id": "a7a0519f-fa4d-4cae-affe-9a50249ab248",
   "metadata": {},
   "outputs": [],
   "source": [
    "### abrimos el archivo\n",
    "#file = open('moby_dick.txt', 'r')\n",
    "\n",
    "### lo imprimimos\n",
    "#print(file.read())\n",
    "\n",
    "### con esto, verificamos si el archivo está abierto o cerrado\n",
    "#print(file.closed)\n",
    "\n",
    "### cerramos el archivo\n",
    "#file.close()\n",
    "\n",
    "### nos imprime un False, pues el archivo lo hemos cerrado antes\n",
    "#print(file.closed)\n"
   ]
  },
  {
   "cell_type": "markdown",
   "id": "5ec07810-1efa-416b-8872-d366f712de87",
   "metadata": {},
   "source": [
    "Podemos hacer esto mismo usando with, la ventaja de usar esto, es que no tenemos que cerrar el archivo como lo hicimos anteriormente"
   ]
  },
  {
   "cell_type": "code",
   "execution_count": 3,
   "id": "9ccfba04-921d-472c-8515-44ed2d14b204",
   "metadata": {},
   "outputs": [],
   "source": [
    "#with open('moby_dick.txt') as file:\n",
    "#    print(file.readline())\n",
    "#    print(file.readline())\n",
    "#    print(file.readline())\n",
    "\n",
    "### con este codigo, imprimimos las primeras tres lineas del txt"
   ]
  },
  {
   "cell_type": "markdown",
   "id": "a74f3ada-74a3-4d87-86f8-4005e8146ce5",
   "metadata": {},
   "source": [
    "## Importando datos con Numpy"
   ]
  },
  {
   "cell_type": "markdown",
   "id": "96ea40b8-c0f5-4195-b6da-548076f361b6",
   "metadata": {},
   "source": [
    "Podemos usar el metodo np.loadtxt() para abrir archivos, aunque solo es recomendable usarlo cuando trabajamos con archivos que solo contienen numeros, mas aun, lo ideal es que no se mezclen enteros con flotantes"
   ]
  },
  {
   "cell_type": "code",
   "execution_count": 7,
   "id": "5e888d60-6fd5-4637-b2dc-f2acde0d25b2",
   "metadata": {},
   "outputs": [
    {
     "name": "stdout",
     "output_type": "stream",
     "text": [
      "<class 'numpy.ndarray'>\n"
     ]
    },
    {
     "data": {
      "image/png": "[encoded data removed]",
      "text/plain": [
       "<Figure size 432x288 with 1 Axes>"
      ]
     },
     "metadata": {
      "needs_background": "light"
     },
     "output_type": "display_data"
    }
   ],
   "source": [
    "file = 'Datos\\mnist_kaggle_some_rows.txt'\n",
    "digits = np.loadtxt(file, delimiter=',')\n",
    "\n",
    "# imprimos la clase de digits\n",
    "print(type(digits))\n",
    "\n",
    "# el doc txt trata de numeros que forman alguna figura, como veremos después\n",
    "im = digits[21, 1:]\n",
    "im_sq = np.reshape(im, (28, 28))\n",
    "\n",
    "plt.imshow(im_sq, cmap='Greys', interpolation='nearest')\n",
    "plt.show()"
   ]
  },
  {
   "cell_type": "markdown",
   "id": "066f1045-a378-48af-965b-abfb2bec8d14",
   "metadata": {},
   "source": [
    "Podemos omitir filas y escoger la columnas que queramos especificando los parámetros skiprows=45 (omitimos las primeras 45 filas) y escogemos las columnas con usecols=[0,5,6] \n",
    "\n",
    "Otro aspecto importante son los delimitadores, pues no siempre vienen separados por comas, para esto, especificamos el parámetro delimiter=',' para separar por comas, '\\t' para los 'delimitadores por tabulación'"
   ]
  },
  {
   "cell_type": "code",
   "execution_count": 12,
   "id": "62e6f7e5-c9fc-40ce-99ba-0c36e503c0ac",
   "metadata": {},
   "outputs": [
    {
     "name": "stdout",
     "output_type": "stream",
     "text": [
      "['Time' 'Percent']\n",
      "[0.    0.357]\n"
     ]
    }
   ],
   "source": [
    "file = 'Datos\\seaslug.txt'\n",
    "\n",
    "# la primer fila contiene un titulo, por lo que una forma de solucionarlo es convirtiendo todo a cadenas\n",
    "# esto lo especificamos con el parámetro dtype=str\n",
    "data = np.loadtxt(file, delimiter='\\t', dtype=str)\n",
    "\n",
    "print(data[0])\n",
    "\n",
    "# aqui omitimos la primer fila y convertimos todos los numeros a flotantes\n",
    "data_float = np.loadtxt(file, delimiter='\\t', dtype=float, skiprows=1)\n",
    "\n",
    "print(data_float[9])"
   ]
  },
  {
   "cell_type": "markdown",
   "id": "6f0feb31-c5ff-4374-84e7-823bc8be95b1",
   "metadata": {},
   "source": [
    "Cuando los archivos incluyen mas de un tipo, no los podremos abrir con np.loadtxt(), para esto, usaremos np.genfromtxt() de la siguiente manera"
   ]
  },
  {
   "cell_type": "code",
   "execution_count": 13,
   "id": "e0ceb4c1-2a07-46fe-be84-880fb83d36f3",
   "metadata": {},
   "outputs": [],
   "source": [
    "# data = np.genfromtxt('titanic.csv', delimiter=',', names=True, dtype=None)\n",
    "\n",
    "# donde el parametro names=True indica que hay un titulo\n",
    "# dtype=None tratara de averiguar el tipo de cada columna"
   ]
  },
  {
   "cell_type": "markdown",
   "id": "ee78a9ee-5ecd-4268-92d5-3404409039c2",
   "metadata": {},
   "source": [
    "Otra forma de abrir archivos de texto, es con np.recfromcsv(), donde este método tiene los valores por defecto del método anterior, por lo que solo habría de especificar el nombre del archivo."
   ]
  },
  {
   "cell_type": "markdown",
   "id": "bc014c0a-acfd-495b-8543-25217c5583d1",
   "metadata": {},
   "source": [
    "## Leyendo archivos con pandas"
   ]
  },
  {
   "cell_type": "markdown",
   "id": "b140de8d-b9a8-41af-9963-24f9d389d05d",
   "metadata": {},
   "source": [
    "Cuando usamos pd.read_csv(), podemos indicar parametros similares a la funcion open().\n",
    "\n",
    "sep es lo equivalente a delim (ya sea que este delimitado por comas o por '\\t'\n",
    "\n",
    "comment se usa para quitar los elementos que vengan despues de un simbolo ej. #\n",
    "\n",
    "na_values ajustamos los valores que seran Na, por ejemplo 'Nothing'"
   ]
  },
  {
   "cell_type": "markdown",
   "id": "53067e5d-67d0-4823-b527-6aaba9316816",
   "metadata": {},
   "source": [
    "## Importando archivos pickle"
   ]
  },
  {
   "cell_type": "code",
   "execution_count": 1,
   "id": "8b430645-9cba-4186-a824-c1f49f22521c",
   "metadata": {},
   "outputs": [],
   "source": [
    "import pickle\n",
    "\n",
    "### el segundo argumento indica que queremos leer el archivo\n",
    "#with open('data.pkl', 'rb') as file:\n",
    "#    d = pickle.load(file)\n",
    "\n",
    "### Print d\n",
    "#print(d)"
   ]
  },
  {
   "cell_type": "markdown",
   "id": "f27e205d-eb66-4b33-9645-4cc463929fd9",
   "metadata": {},
   "source": [
    "## Importando hojas de calculo de excel"
   ]
  },
  {
   "cell_type": "code",
   "execution_count": 2,
   "id": "b1023685-6459-47a7-afa6-1f46dfcd8a27",
   "metadata": {},
   "outputs": [
    {
     "name": "stdout",
     "output_type": "stream",
     "text": [
      "['2002', '2004']\n"
     ]
    }
   ],
   "source": [
    "import pandas as pd\n",
    "\n",
    "# nombre del archivo\n",
    "file = 'battledeath.xlsx'\n",
    "\n",
    "xls = pd.ExcelFile(file)\n",
    "\n",
    "# imprimimos los nombres de las hojas del documento\n",
    "print(xls.sheet_names)"
   ]
  },
  {
   "cell_type": "markdown",
   "id": "522d1419-f3a3-473e-a9ac-67776af0c970",
   "metadata": {},
   "source": [
    "Para abrir el contenido de una u otra hoja, lo hacemos con el metodo parse() de la siguiente manera"
   ]
  },
  {
   "cell_type": "code",
   "execution_count": 3,
   "id": "774fa778-9ce9-4a9a-b3a0-7900ed343ff3",
   "metadata": {},
   "outputs": [
    {
     "name": "stdout",
     "output_type": "stream",
     "text": [
      "  War(country)      2004\n",
      "0  Afghanistan  9.451028\n",
      "1      Albania  0.130354\n",
      "2      Algeria  3.407277\n",
      "3      Andorra  0.000000\n",
      "4       Angola  2.597931\n",
      "  War, age-adjusted mortality due to       2002\n",
      "0                        Afghanistan  36.083990\n",
      "1                            Albania   0.128908\n",
      "2                            Algeria  18.314120\n",
      "3                            Andorra   0.000000\n",
      "4                             Angola  18.964560\n"
     ]
    }
   ],
   "source": [
    "# en el metodo parse, indicamos el nombre de la hoja que queremos\n",
    "df1 = xls.parse('2004')\n",
    "\n",
    "print(df1.head())\n",
    "\n",
    "# el metodo parse, tambien reconoce los indices, en este caso, indicamos que queremos la primer hoja\n",
    "df2 = xls.parse(0)\n",
    "\n",
    "print(df2.head())"
   ]
  },
  {
   "cell_type": "markdown",
   "id": "1fc1f771-3683-4cc4-a2a5-ab1657fed261",
   "metadata": {},
   "source": [
    "Dentro del metodo parse, podemos renombrar columnas y omitir filas y columnas"
   ]
  },
  {
   "cell_type": "code",
   "execution_count": 4,
   "id": "fcde140f-67bf-40ef-b19c-18a443176849",
   "metadata": {},
   "outputs": [
    {
     "name": "stdout",
     "output_type": "stream",
     "text": [
      "               Country  AAM due to War (2002)\n",
      "0              Albania               0.128908\n",
      "1              Algeria              18.314120\n",
      "2              Andorra               0.000000\n",
      "3               Angola              18.964560\n",
      "4  Antigua and Barbuda               0.000000\n",
      "               Country\n",
      "0              Albania\n",
      "1              Algeria\n",
      "2              Andorra\n",
      "3               Angola\n",
      "4  Antigua and Barbuda\n"
     ]
    }
   ],
   "source": [
    "# omitimos la primer fila y renombramos los nombres de ambas columnas\n",
    "df1 = xls.parse(0, skiprows=[1], names=['Country', 'AAM due to War (2002)'])\n",
    "\n",
    "print(df1.head())\n",
    "\n",
    "# omitimos la primer fila y solo nos quedamos con la primer columna, a dicha columna la renombramos\n",
    "df2 = xls.parse(1, usecols=[0], skiprows=[1], names=['Country'])\n",
    "\n",
    "# los parametros skiprows, names, usecols deben ser listas\n",
    "print(df2.head())"
   ]
  },
  {
   "cell_type": "markdown",
   "id": "7a8b0e98-6d54-4294-92dd-73450718921f",
   "metadata": {},
   "source": [
    "## Importando archivos SAS/Stata con pandas"
   ]
  },
  {
   "cell_type": "code",
   "execution_count": null,
   "id": "e7a52d27-9858-42e2-b190-a39057f655ab",
   "metadata": {},
   "outputs": [],
   "source": []
  }
 ],
 "metadata": {
  "kernelspec": {
   "display_name": "Python 3",
   "language": "python",
   "name": "python3"
  },
  "language_info": {
   "codemirror_mode": {
    "name": "ipython",
    "version": 3
   },
   "file_extension": ".py",
   "mimetype": "text/x-python",
   "name": "python",
   "nbconvert_exporter": "python",
   "pygments_lexer": "ipython3",
   "version": "3.8.8"
  }
 },
 "nbformat": 4,
 "nbformat_minor": 5
}
